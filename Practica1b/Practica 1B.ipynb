{
 "cells": [
  {
   "cell_type": "code",
   "execution_count": 1,
   "metadata": {},
   "outputs": [],
   "source": [
    "# Cargamos el módulo con los algoritmos de búsqueda.\n",
    "from search import *\n",
    "from search import breadth_first_tree_search, depth_first_tree_search, depth_first_graph_search, breadth_first_graph_search"
   ]
  },
  {
   "cell_type": "code",
   "execution_count": 156,
   "metadata": {},
   "outputs": [],
   "source": [
    "class Problem(object):\n",
    "\n",
    "    def __init__(self, initial, goal=None):\n",
    "        \n",
    "        self.initial = initial\n",
    "        self.goal = goal\n",
    "\n",
    "    def actions(self, state):\n",
    "        raise NotImplementedError\n",
    "\n",
    "    def result(self, state, action):\n",
    "        raise NotImplementedError\n",
    "\n",
    "    def goal_test(self, state):\n",
    "        if isinstance(self.goal, list):\n",
    "            return is_in(state, self.goal)\n",
    "        else:\n",
    "            return state == self.goal\n",
    "        \n",
    "    def path_cost(self, c, state1, action, state2):\n",
    "        return c + 1\n",
    "\n",
    "    def value(self, state):\n",
    "        raise NotImplementedError\n",
    "\n",
    "    def coste_de_aplicar_accion(self, estado, accion):\n",
    "        return 1"
   ]
  },
  {
   "cell_type": "code",
   "execution_count": 280,
   "metadata": {},
   "outputs": [],
   "source": [
    "# Creamos la clase ProblemaPuente con los elementos que representarán el problema. \n",
    "class ProblemaPuente(Problem):\n",
    "    def __init__(self, initial, cruzar, goal=(set(),1,300)):\n",
    "        '''Inicializacion de nuestro problema.'''\n",
    "        Problem.__init__(self, initial, goal)\n",
    "        self.cruzar= cruzar\n",
    "        self._actions = [('1', (1, 0)), ('2', (2, 0)), ('3', (3, 0)), ('4', (4, 0)), ('5', (5, 0)),\n",
    "                         ('12', (1, 2)), ('23', (2, 3)), ('34', (3, 4)), ('45', (4, 5)),\n",
    "                         ('13', (1, 3)), ('24', (2, 4)), ('35', (3, 5)),\n",
    "                         ('14', (1, 4)), ('25', (2, 5)),\n",
    "                         ('15', (1, 5))]\n",
    "\n",
    "    def goal_test(self, state):\n",
    "        if isinstance(self.goal, list):\n",
    "            return is_in(state, self.goal)\n",
    "        else:\n",
    "            return state[0] == self.goal[0] and state[1] == self.goal[1] and state[2] <= self.goal[2]\n",
    "    def actions(self, s):\n",
    "        '''Devuelve las acciones validas para un estado.'''\n",
    "        return [a for a in self._actions if self._is_valid(s,a)]\n",
    "\n",
    "    def _is_valid(self, s,a):\n",
    "        '''Determina si un estado es valido o no.'''\n",
    "        t1 = self.cruzar[a[1][0]-1]\n",
    "        t2= 0\n",
    "        if a[1][1]!=0:\n",
    "            t2 = self.cruzar[a[1][1]-1]\n",
    "        t3 = max(t1, t2)\n",
    "        return (s[2]+ t3 <=self.goal[2]) and ((s[1] == 0 and (a[1][0] in s[0]) and ((a[1][1] in s[0]) or a[1][1]==0)) or (s[1] == 1 and (not(a[1][0] in s[0])) and (not(a[1][1] in s[0]) or a[1][1]==0))) and  1 <= a[1][0]<= 5 and 0 <= a[1][1]<= 5 \n",
    "\n",
    "    def result(self, s, a):\n",
    "        '''Devuelve el estado resultante de aplicar una accion a un estado\n",
    "           determinado.'''\n",
    "        conjunto=list(s[0])\n",
    "        estado = set(conjunto)\n",
    "        linterna=s[1]\n",
    "        tiempo=s[2]\n",
    "        t1 = self.cruzar[a[1][0]-1]\n",
    "        t2= 0\n",
    "        if a[1][1]!=0:\n",
    "            t2 = self.cruzar[a[1][1]-1]\n",
    "        t3 = max(t1, t2)\n",
    "        if linterna== 0:\n",
    "            estado.discard(a[1][0])\n",
    "            estado.discard(a[1][1])\n",
    "            return (estado, 1, tiempo+t3)\n",
    "        else:\n",
    "            estado.add(a[1][0])\n",
    "            if a[1][1]!=0:\n",
    "                estado.add(a[1][1])\n",
    "            return (estado, 0,tiempo+t3)\n",
    "        \n",
    "    def h(self, node):\n",
    "        \"\"\" Return the heuristic value for a given state. \"\"\"\n",
    "        return 1"
   ]
  },
  {
   "cell_type": "code",
   "execution_count": 281,
   "metadata": {},
   "outputs": [],
   "source": [
    "p = ProblemaPuente((set([1,2,3,4,5]), 0, 0), [10,30,60,80,120],(set(), 1, 300))"
   ]
  },
  {
   "cell_type": "code",
   "execution_count": 288,
   "metadata": {},
   "outputs": [
    {
     "name": "stdout",
     "output_type": "stream",
     "text": [
      "(set(), 1, 290)\n"
     ]
    }
   ],
   "source": [
    "estado= p.result(p.initial,(\"12\",(1, 2)))\n",
    "estado= p.result(estado,(\"1\",(1, 0)))\n",
    "estado= p.result(estado,(\"45\",(4, 5)))\n",
    "estado= p.result(estado,(\"2\",(2, 0)))\n",
    "estado= p.result(estado,(\"13\",(1, 3)))\n",
    "estado= p.result(estado,(\"1\",(1, 0)))\n",
    "estado= p.result(estado,(\"12\",(1, 2)))\n",
    "print (estado)"
   ]
  },
  {
   "cell_type": "code",
   "execution_count": 239,
   "metadata": {},
   "outputs": [
    {
     "data": {
      "text/plain": [
       "True"
      ]
     },
     "execution_count": 239,
     "metadata": {},
     "output_type": "execute_result"
    }
   ],
   "source": [
    "p.goal_test(estado)"
   ]
  },
  {
   "cell_type": "code",
   "execution_count": 264,
   "metadata": {},
   "outputs": [],
   "source": [
    "# Creamos la clase ProblemaPuente con los elementos que representarán el problema. \n",
    "class Puentesitopapi(Problem):\n",
    "    def __init__(self, initial, cruzar, goal=(list(),1,300)):\n",
    "        '''Inicializacion de nuestro problema.'''\n",
    "        Problem.__init__(self, initial, goal)\n",
    "        self.cruzar= cruzar\n",
    "        self._actions = ['1','2', '3','4','5','12','23','34','45','13','24','35','14','25','15']\n",
    "\n",
    "    def goal_test(self, state):\n",
    "        if isinstance(self.goal, list):\n",
    "            return is_in(state, self.goal)\n",
    "        else:\n",
    "            return state[0] == self.goal[0] and state[1] == self.goal[1] and state[2] <= self.goal[2]\n",
    "    def actions(self, s):\n",
    "        '''Devuelve las acciones validas para un estado.'''\n",
    "        return [a for a in self._actions if self._is_valid(s,a)]\n",
    "\n",
    "    def _is_valid(self, s,a):\n",
    "        '''Determina si un estado es valido o no.'''\n",
    "        t1 = self.cruzar[int(a[0])-1]\n",
    "        t2= 0\n",
    "        if len(a)>1:\n",
    "            t2 = self.cruzar[int(a[1])-1]\n",
    "        t3 = max(t1, t2)\n",
    "        return (s[2]+ t3 <=self.goal[2]) and ((s[1] == 0 and (int(a[0]) in s[0]) and ((len(a)<2) or (int(a[1]) in s[0]))) or (s[1] == 1 and (not(int(a[0]) in s[0])) and (len(a)<2 or not(int(a[1]) in s[0])))) and  1 <= int(a[0]) <= 5 and (len(a)<2 or 0 <= int(a[1])<= 5) \n",
    "\n",
    "    def result(self, s, a):\n",
    "        '''Devuelve el estado resultante de aplicar una accion a un estado\n",
    "           determinado.'''\n",
    "        estado = s\n",
    "        conjunto=set(estado[0])\n",
    "        linterna=estado[1]\n",
    "        tiempo=estado[2]\n",
    "        t1 = self.cruzar[int(a[0])-1]\n",
    "        t2= 0\n",
    "        if len(a)>1:\n",
    "            t2 = self.cruzar[int(a[1])-1]\n",
    "        t3 = max(t1, t2)\n",
    "        if linterna == 0:\n",
    "            conjunto.discard(int(a[0]))\n",
    "            if len(a)>1:\n",
    "                conjunto.discard(int(a[1]))\n",
    "            return (list(conjunto), 1, tiempo+t3)\n",
    "        else:\n",
    "            conjunto.add(int(a[0]))\n",
    "            if len(a)>1:\n",
    "                conjunto.add(int(a[1]))\n",
    "            return (list(conjunto), 0,tiempo+t3)\n",
    "        \n",
    "    def h(self, node):\n",
    "        \"\"\" Return the heuristic value for a given state. \"\"\"\n",
    "        return 1"
   ]
  },
  {
   "cell_type": "code",
   "execution_count": 285,
   "metadata": {},
   "outputs": [
    {
     "name": "stdout",
     "output_type": "stream",
     "text": [
      "[('13', (1, 3)), ('1', (1, 0)), ('12', (1, 2)), ('2', (2, 0)), ('45', (4, 5)), ('1', (1, 0)), ('12', (1, 2))]\n"
     ]
    }
   ],
   "source": [
    "x=depth_first_tree_search(ProblemaPuente((set([1,2,3,4,5]), 0, 0), [10,30,60,80,120],(set(), 1, 300)))\n",
    "print(x.solution())"
   ]
  },
  {
   "cell_type": "code",
   "execution_count": 255,
   "metadata": {},
   "outputs": [],
   "source": [
    "pp = Puentesitopapi(([1,2,3,4,5], 0, 0), [10,30,60,80,120],(list(), 1, 300))"
   ]
  },
  {
   "cell_type": "code",
   "execution_count": 286,
   "metadata": {
    "scrolled": true
   },
   "outputs": [
    {
     "data": {
      "text/plain": [
       "['13', '1', '12', '2', '45', '1', '12']"
      ]
     },
     "execution_count": 286,
     "metadata": {},
     "output_type": "execute_result"
    }
   ],
   "source": [
    "depth_first_tree_search(pp).solution()"
   ]
  },
  {
   "cell_type": "code",
   "execution_count": 287,
   "metadata": {},
   "outputs": [
    {
     "data": {
      "text/plain": [
       "['12', '1', '45', '2', '12', '1', '13']"
      ]
     },
     "execution_count": 287,
     "metadata": {},
     "output_type": "execute_result"
    }
   ],
   "source": [
    "breadth_first_tree_search(pp).solution()"
   ]
  }
 ],
 "metadata": {
  "kernelspec": {
   "display_name": "Python 3",
   "language": "python",
   "name": "python3"
  },
  "language_info": {
   "codemirror_mode": {
    "name": "ipython",
    "version": 3
   },
   "file_extension": ".py",
   "mimetype": "text/x-python",
   "name": "python",
   "nbconvert_exporter": "python",
   "pygments_lexer": "ipython3",
   "version": "3.8.3"
  }
 },
 "nbformat": 4,
 "nbformat_minor": 4
}

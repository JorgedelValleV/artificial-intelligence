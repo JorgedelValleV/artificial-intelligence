{
 "cells": [
  {
   "cell_type": "markdown",
   "metadata": {},
   "source": [
    "# Practica 1B\n",
    "##  Arturo Ibáñez \n",
    "## Jorge del Valle"
   ]
  },
  {
   "cell_type": "code",
   "execution_count": 1,
   "metadata": {},
   "outputs": [],
   "source": [
    "# Cargamos el módulo con los algoritmos de búsqueda.\n",
    "from search import *\n",
    "from search import breadth_first_tree_search, depth_first_tree_search, depth_first_graph_search, breadth_first_graph_search"
   ]
  },
  {
   "cell_type": "code",
   "execution_count": 2,
   "metadata": {},
   "outputs": [],
   "source": [
    "class Problem(object):\n",
    "\n",
    "    def __init__(self, initial, goal=None):\n",
    "        \n",
    "        self.initial = initial\n",
    "        self.goal = goal\n",
    "\n",
    "    def actions(self, state):\n",
    "        raise NotImplementedError\n",
    "\n",
    "    def result(self, state, action):\n",
    "        raise NotImplementedError\n",
    "\n",
    "    def goal_test(self, state):\n",
    "        if isinstance(self.goal, list):\n",
    "            return is_in(state, self.goal)\n",
    "        else:\n",
    "            return state == self.goal\n",
    "        \n",
    "    def path_cost(self, c, state1, action, state2):\n",
    "        return c + 1\n",
    "\n",
    "    def value(self, state):\n",
    "        raise NotImplementedError\n",
    "\n",
    "    def coste_de_aplicar_accion(self, estado, accion):\n",
    "        return 1"
   ]
  },
  {
   "cell_type": "markdown",
   "metadata": {},
   "source": [
    "## Problema Puente\n",
    "### Comentarios\n",
    "#### - Utilizamos tanto bfts y dfts.\n",
    "#### - No podemos usar graph search puesto que no se puede hacer hash de lista. Igual con a*\n",
    "#### - Para representar el problema cada estado almacena la gente que queda por cruzar , en que lado del puente se encuentra la linterna y el tiempo de uso de la literna acumulado. El estado objetivo es aquel en el que han cruzado todos la linterna queda a la derecha y les ha durado la linterna encendida hasta el final o sobra algo de batería\n",
    "#### - La lista cruzar almacena los tiempos que tarda cada persona en cruzar\n",
    "#### - Las acciones vienen dadas por la persona o la pareja que procede a cruzar el puente\n",
    "#### - Coste:\n",
    "#### - Heuristica :"
   ]
  },
  {
   "cell_type": "code",
   "execution_count": 11,
   "metadata": {},
   "outputs": [],
   "source": [
    "# Creamos la clase ProblemaPuente con los elementos que representarán el problema. \n",
    "class Puente(Problem):\n",
    "    def __init__(self, initial, cruzar, goal=(list(),1,300)):\n",
    "        '''Inicializacion de nuestro problema.'''\n",
    "        Problem.__init__(self, initial, goal)\n",
    "        self.cruzar= cruzar\n",
    "        self._actions = ['1','2', '3','4','5','12','23','34','45','13','24','35','14','25','15']\n",
    "\n",
    "    def goal_test(self, state):\n",
    "        if isinstance(self.goal, list):\n",
    "            return is_in(state, self.goal)\n",
    "        else:\n",
    "            return state[0] == self.goal[0] and state[1] == self.goal[1] and state[2] <= self.goal[2]\n",
    "    def actions(self, s):\n",
    "        '''Devuelve las acciones validas para un estado.'''\n",
    "        return [a for a in self._actions if self._is_valid(s,a)]\n",
    "\n",
    "    def _is_valid(self, s,a):\n",
    "        '''Determina si un estado es valido o no.'''\n",
    "        t1 = self.cruzar[int(a[0])-1]\n",
    "        t2= 0\n",
    "        if len(a)>1:\n",
    "            t2 = self.cruzar[int(a[1])-1]\n",
    "        t3 = max(t1, t2)\n",
    "        return (s[2]+ t3 <=self.goal[2]) and ((s[1] == 0 and (int(a[0]) in s[0]) and ((len(a)<2) or (int(a[1]) in s[0]))) or (s[1] == 1 and (not(int(a[0]) in s[0])) and (len(a)<2 or not(int(a[1]) in s[0])))) and  1 <= int(a[0]) <= 5 and (len(a)<2 or 0 <= int(a[1])<= 5) \n",
    "\n",
    "    def result(self, s, a):\n",
    "        '''Devuelve el estado resultante de aplicar una accion a un estado\n",
    "           determinado.'''\n",
    "        estado = s\n",
    "        conjunto=set(estado[0])\n",
    "        linterna=estado[1]\n",
    "        tiempo=estado[2]\n",
    "        t1 = self.cruzar[int(a[0])-1]\n",
    "        t2= 0\n",
    "        if len(a)>1:\n",
    "            t2 = self.cruzar[int(a[1])-1]\n",
    "        t3 = max(t1, t2)\n",
    "        if linterna == 0:\n",
    "            conjunto.discard(int(a[0]))\n",
    "            if len(a)>1:\n",
    "                conjunto.discard(int(a[1]))\n",
    "            return (list(conjunto), 1, tiempo+t3)\n",
    "        else:\n",
    "            conjunto.add(int(a[0]))\n",
    "            if len(a)>1:\n",
    "                conjunto.add(int(a[1]))\n",
    "            return (list(conjunto), 0,tiempo+t3)\n",
    "        \n",
    "    def h(self, node):\n",
    "        \"\"\" Return the heuristic value for a given state. \"\"\"\n",
    "        return 1"
   ]
  },
  {
   "cell_type": "code",
   "execution_count": 4,
   "metadata": {},
   "outputs": [],
   "source": [
    "p = Puente(([1,2,3,4,5], 0, 0), [10,30,60,80,120],(list(), 1, 300))"
   ]
  },
  {
   "cell_type": "code",
   "execution_count": 5,
   "metadata": {},
   "outputs": [
    {
     "data": {
      "text/plain": [
       "['13', '1', '12', '2', '45', '1', '12']"
      ]
     },
     "execution_count": 5,
     "metadata": {},
     "output_type": "execute_result"
    }
   ],
   "source": [
    "depth_first_tree_search(p).solution()"
   ]
  },
  {
   "cell_type": "code",
   "execution_count": 6,
   "metadata": {},
   "outputs": [
    {
     "data": {
      "text/plain": [
       "['12', '1', '45', '2', '12', '1', '13']"
      ]
     },
     "execution_count": 6,
     "metadata": {},
     "output_type": "execute_result"
    }
   ],
   "source": [
    "breadth_first_tree_search(p).solution()"
   ]
  },
  {
   "cell_type": "markdown",
   "metadata": {},
   "source": []
  },
  {
   "cell_type": "markdown",
   "metadata": {},
   "source": [
    "## Problema Puzzle matemático\n",
    "### Comentarios\n",
    "#### -  Usamos para resolverlo dfs (tree o graph) o bfs (tree)\n",
    "#### -  Tanto a* como bfgs no llegan a acabar\n",
    "#### -  Para representarlo hemos considerado 14 casillas, donde una es el resultado, 13 de operandos de los que 4 vienen precolocados\n",
    "#### - En el estado se guardan las cifras todavía no colocadas, la casilla actual pra conocer la operación cerrespondiente y el valor acumulado. El estado objetivo es aquel donde no quedan  cifras por colocar, se han ocupado todas las casillas y se tiene el valor esperado\n",
    "#### - El array operaciones concreta cómo es el tablero, es decir, la sucesión de operaciones arealizar\n",
    "#### - No consideramos la posibilidad de obtener el resultado con algun casilla sin colocar\n",
    "#### - Las acciones consideradas son o bien operar una casilla precolocadao bien colocar una cifra y realizar la operación correspondiente \n",
    "#### - Coste:\n",
    "#### - Heuristica: "
   ]
  },
  {
   "cell_type": "code",
   "execution_count": 7,
   "metadata": {},
   "outputs": [],
   "source": [
    "operaciones = [\"Comienzo\",\"Suma 13\",\"Multiplicacion\",\"Division\",\"Suma\",\"Suma 12\",\"Multiplicacion\",\"Resta\",\"Resta 11\",\"Suma\",\"Multiplicacion\",\"Division\",\"Resta 10\"]\n",
    "class Puzzle(Problem):\n",
    "    \"\"\"estado : numeros por colocar, casillas con las que hemos operado(incluyendo las prefijadas), valor actual\"\"\"\n",
    "    def __init__ (self,initial = ((1,2,3,4,5,6,7,8,9),0,0),goal = ((),13,66)):\n",
    "        self.initial= initial\n",
    "        self.goal = goal\n",
    "        \n",
    "    def actions (self,estado):\n",
    "        indice = estado[1]\n",
    "        if indice == 1:\n",
    "            \"Suma 13\"\n",
    "            return [operaciones[1]]\n",
    "        elif indice == 5:\n",
    "            \"Suma 12\"\n",
    "            return [operaciones[5]]\n",
    "        elif indice == 8:\n",
    "            \"Resta 11\"\n",
    "            return [operaciones[8]]\n",
    "        elif indice == 12:\n",
    "            \"Resta 10\"\n",
    "            return [operaciones[12]]\n",
    "        else:\n",
    "            accs = list()\n",
    "            for i in range(0,len(estado[0])):\n",
    "                accs.append(\"Colocar el numero \" + str(estado[0][i]))\n",
    "            return accs\n",
    "            \n",
    "    def result (self,estado,accion):\n",
    "        l = list(estado[0])\n",
    "        indice = estado[1]\n",
    "        num = estado[2]\n",
    "        if accion == \"Suma 13\":\n",
    "            return (tuple(l),indice+1,num+13)\n",
    "        elif accion == \"Suma 12\":\n",
    "            return (tuple(l),indice+1,num+12)\n",
    "        elif accion == \"Resta 11\":\n",
    "            return (tuple(l),indice+1,num-11)\n",
    "        elif accion == \"Resta 10\":\n",
    "            return (tuple(l),indice+1,num-10)\n",
    "        else:\n",
    "            for i in range(1,10):\n",
    "                if accion == \"Colocar el numero \" + str(i):\n",
    "                        l.remove(i)\n",
    "                        if operaciones[indice] == \"Comienzo\":\n",
    "                            num = i\n",
    "                        elif operaciones[indice] == \"Suma\":\n",
    "                            num += i\n",
    "                        elif operaciones[indice] == \"Multiplicacion\":\n",
    "                            num *= i\n",
    "                        elif operaciones[indice] == \"Division\":\n",
    "                            num /= i\n",
    "                        elif operaciones[indice] == \"Resta\":\n",
    "                            num -= i\n",
    "            indice += 1\n",
    "            return (tuple(l),indice,num)\n",
    "    \n",
    "    def h(self, node):\n",
    "        \"\"\" Return the heuristic value for a given state. \"\"\"\n",
    "        return 1"
   ]
  },
  {
   "cell_type": "code",
   "execution_count": 8,
   "metadata": {},
   "outputs": [
    {
     "data": {
      "text/plain": [
       "['Colocar el numero 1',\n",
       " 'Suma 13',\n",
       " 'Colocar el numero 2',\n",
       " 'Colocar el numero 4',\n",
       " 'Colocar el numero 7',\n",
       " 'Suma 12',\n",
       " 'Colocar el numero 5',\n",
       " 'Colocar el numero 8',\n",
       " 'Resta 11',\n",
       " 'Colocar el numero 3',\n",
       " 'Colocar el numero 6',\n",
       " 'Colocar el numero 9',\n",
       " 'Resta 10']"
      ]
     },
     "execution_count": 8,
     "metadata": {},
     "output_type": "execute_result"
    }
   ],
   "source": [
    "breadth_first_tree_search(Puzzle()).solution()"
   ]
  },
  {
   "cell_type": "code",
   "execution_count": 9,
   "metadata": {},
   "outputs": [
    {
     "data": {
      "text/plain": [
       "['Colocar el numero 9',\n",
       " 'Suma 13',\n",
       " 'Colocar el numero 7',\n",
       " 'Colocar el numero 2',\n",
       " 'Colocar el numero 8',\n",
       " 'Suma 12',\n",
       " 'Colocar el numero 4',\n",
       " 'Colocar el numero 3',\n",
       " 'Resta 11',\n",
       " 'Colocar el numero 6',\n",
       " 'Colocar el numero 1',\n",
       " 'Colocar el numero 5',\n",
       " 'Resta 10']"
      ]
     },
     "execution_count": 9,
     "metadata": {},
     "output_type": "execute_result"
    }
   ],
   "source": [
    "depth_first_graph_search(Puzzle()).solution()"
   ]
  },
  {
   "cell_type": "code",
   "execution_count": 10,
   "metadata": {},
   "outputs": [
    {
     "data": {
      "text/plain": [
       "['Colocar el numero 9',\n",
       " 'Suma 13',\n",
       " 'Colocar el numero 7',\n",
       " 'Colocar el numero 2',\n",
       " 'Colocar el numero 8',\n",
       " 'Suma 12',\n",
       " 'Colocar el numero 4',\n",
       " 'Colocar el numero 3',\n",
       " 'Resta 11',\n",
       " 'Colocar el numero 6',\n",
       " 'Colocar el numero 1',\n",
       " 'Colocar el numero 5',\n",
       " 'Resta 10']"
      ]
     },
     "execution_count": 10,
     "metadata": {},
     "output_type": "execute_result"
    }
   ],
   "source": [
    "depth_first_tree_search(Puzzle()).solution()"
   ]
  }
 ],
 "metadata": {
  "kernelspec": {
   "display_name": "Python 3",
   "language": "python",
   "name": "python3"
  },
  "language_info": {
   "codemirror_mode": {
    "name": "ipython",
    "version": 3
   },
   "file_extension": ".py",
   "mimetype": "text/x-python",
   "name": "python",
   "nbconvert_exporter": "python",
   "pygments_lexer": "ipython3",
   "version": "3.8.3"
  }
 },
 "nbformat": 4,
 "nbformat_minor": 4
}

{
 "cells": [
  {
   "cell_type": "markdown",
   "metadata": {},
   "source": [
    "# Practica 1B\n",
    "##  Arturo Ibáñez Martínez\n",
    "## Jorge del Valle Vázquez"
   ]
  },
  {
   "cell_type": "code",
   "execution_count": 63,
   "metadata": {},
   "outputs": [
    {
     "name": "stdout",
     "output_type": "stream",
     "text": [
      "[WinError 2] El sistema no puede encontrar el archivo especificado: 'aima-python'\n",
      "C:\\Users\\uSUARIO\\Ejercicios IA\\Practica1b\n"
     ]
    }
   ],
   "source": [
    "cd aima-python"
   ]
  },
  {
   "cell_type": "code",
   "execution_count": 2,
   "metadata": {},
   "outputs": [],
   "source": [
    "# Cargamos el módulo con los algoritmos de búsqueda.\n",
    "from search import *\n",
    "from search import breadth_first_tree_search, depth_first_tree_search, depth_first_graph_search, breadth_first_graph_search"
   ]
  },
  {
   "cell_type": "code",
   "execution_count": 3,
   "metadata": {},
   "outputs": [],
   "source": [
    "class Problem(object):\n",
    "\n",
    "    def __init__(self, initial, goal=None):\n",
    "        \n",
    "        self.initial = initial\n",
    "        self.goal = goal\n",
    "\n",
    "    def actions(self, state):\n",
    "        raise NotImplementedError\n",
    "\n",
    "    def result(self, state, action):\n",
    "        raise NotImplementedError\n",
    "\n",
    "    def goal_test(self, state):\n",
    "        if isinstance(self.goal, list):\n",
    "            return is_in(state, self.goal)\n",
    "        else:\n",
    "            return state == self.goal\n",
    "        \n",
    "    def path_cost(self, c, state1, action, state2):\n",
    "        return c + 1\n",
    "\n",
    "    def value(self, state):\n",
    "        raise NotImplementedError\n",
    "\n",
    "    def coste_de_aplicar_accion(self, estado, accion):\n",
    "        return 1"
   ]
  },
  {
   "cell_type": "code",
   "execution_count": 4,
   "metadata": {},
   "outputs": [],
   "source": [
    "class Problema_con_Analizados(Problem):\n",
    "         \n",
    "    def __init__(self, problem):\n",
    "        self.initial = problem.initial\n",
    "        self.problem = problem\n",
    "        self.analizados  = 0\n",
    "        self.goal = problem.goal\n",
    "\n",
    "    def actions(self, estado):\n",
    "        return self.problem.actions(estado)\n",
    "\n",
    "    def result(self, estado, accion):\n",
    "        return self.problem.result(estado, accion)\n",
    "\n",
    "    def goal_test(self, estado):\n",
    "        self.analizados += 1\n",
    "        return self.problem.goal_test(estado)\n",
    "\n",
    "    def coste_de_aplicar_accion(self, estado, accion):\n",
    "        return self.problem.coste_de_aplicar_accion(estado,accion)"
   ]
  },
  {
   "cell_type": "code",
   "execution_count": 30,
   "metadata": {},
   "outputs": [],
   "source": [
    "def resuelve_analizando(pca, algoritmo, h=None):\n",
    "\n",
    "    if h: \n",
    "        sol= algoritmo(pca,h).solution()\n",
    "    else: \n",
    "        sol= algoritmo(pca).solution()\n",
    "    print(\"Solución: {0}\".format(sol))\n",
    "    print(\"Algoritmo: {0}\".format(algoritmo.__name__))\n",
    "    if h: \n",
    "        print(\"Heurística: {0}\".format(h.__name__))\n",
    "    else:\n",
    "        pass\n",
    "    print(\"Longitud de la solución: {0}. Nodos analizados: {1}\".format(len(sol),pca.analizados))"
   ]
  },
  {
   "cell_type": "markdown",
   "metadata": {},
   "source": [
    "## Problema Puente\n",
    "### Comentarios\n",
    "#### - Utilizamos tanto bfts y dfts. Para el problema planteado la busqueda en anchura analiza menos nodos, es decir, encuentra antes la solucion.\n",
    "#### - No podemos usar graph search puesto que no se puede hacer hash de lista. Igual con a*. Podríamos haber representado los conjuntos con binarios que podemos expresar con enteros y ya podríamos hacer hash.\n",
    "#### - Para representar el problema cada estado almacena la gente que queda por cruzar , en que lado del puente se encuentra la linterna y el tiempo de uso de la literna acumulado. El estado objetivo es aquel en el que han cruzado todos la linterna queda a la derecha y les ha durado la linterna encendida hasta el final o sobra algo de batería \n",
    "#### - La lista cruzar almacena los tiempos que tarda cada persona en cruzar\n",
    "#### - Las acciones vienen dadas por la persona o la pareja que procede a cruzar el puente\n",
    "#### - Heuristica : consideramos la heurística dada por 2*C +linterna -1 , donde C es la gente que falsta por cruzar, linterna vale 0 en el origen y 1 en el destino, el -1 para tener valor 0 en el estado objetivo"
   ]
  },
  {
   "cell_type": "code",
   "execution_count": 36,
   "metadata": {},
   "outputs": [],
   "source": [
    "# Creamos la clase ProblemaPuente con los elementos que representarán el problema. \n",
    "class Puente(Problem):\n",
    "    def __init__(self, initial, cruzar, goal):\n",
    "        '''Inicializacion de nuestro problema.'''\n",
    "        Problem.__init__(self, initial, goal)\n",
    "        self.cruzar= cruzar\n",
    "        self._actions = ['1','2', '3','4','5','12','23','34','45','13','24','35','14','25','15']\n",
    "\n",
    "    def goal_test(self, state):\n",
    "        if isinstance(self.goal, list):\n",
    "            return is_in(state, self.goal)\n",
    "        else:\n",
    "            return state[0] == self.goal[0] and state[1] == self.goal[1] and state[2] <= self.goal[2]\n",
    "    def actions(self, s):\n",
    "        '''Devuelve las acciones validas para un estado.'''\n",
    "        return [a for a in self._actions if self._is_valid(s,a)]\n",
    "\n",
    "    def _is_valid(self, s,a):\n",
    "        '''Determina si un estado es valido o no.'''\n",
    "        t1 = self.cruzar[int(a[0])-1]\n",
    "        t2= 0\n",
    "        if len(a)>1:\n",
    "            t2 = self.cruzar[int(a[1])-1]\n",
    "        t3 = max(t1, t2)\n",
    "        return (s[2]+ t3 <=self.goal[2]) and ((s[1] == 0 and (int(a[0]) in s[0]) and ((len(a)<2) or (int(a[1]) in s[0]))) or (s[1] == 1 and (not(int(a[0]) in s[0])) and (len(a)<2 or not(int(a[1]) in s[0])))) and  1 <= int(a[0]) <= 5 and (len(a)<2 or 0 <= int(a[1])<= 5) \n",
    "\n",
    "    def result(self, s, a):\n",
    "        '''Devuelve el estado resultante de aplicar una accion a un estado\n",
    "           determinado.'''\n",
    "        estado = s\n",
    "        conjunto=set(estado[0])\n",
    "        linterna=estado[1]\n",
    "        tiempo=estado[2]\n",
    "        t1 = self.cruzar[int(a[0])-1]\n",
    "        t2= 0\n",
    "        if len(a)>1:\n",
    "            t2 = self.cruzar[int(a[1])-1]\n",
    "        t3 = max(t1, t2)\n",
    "        if linterna == 0:\n",
    "            conjunto.discard(int(a[0]))\n",
    "            if len(a)>1:\n",
    "                conjunto.discard(int(a[1]))\n",
    "            return (list(conjunto), 1, tiempo+t3)\n",
    "        else:\n",
    "            conjunto.add(int(a[0]))\n",
    "            if len(a)>1:\n",
    "                conjunto.add(int(a[1]))\n",
    "            return (list(conjunto), 0,tiempo+t3)\n",
    "        \n",
    "    def h(self, node):\n",
    "        \"\"\" Return the heuristic value for a given state. \"\"\"\n",
    "        state= node.state\n",
    "        c = len(state[0])\n",
    "        l= state[1]\n",
    "        return (2*c) + l - 1"
   ]
  },
  {
   "cell_type": "code",
   "execution_count": 38,
   "metadata": {},
   "outputs": [],
   "source": [
    "p = Puente(([1,2,3,4,5], 0, 0), [10,30,60,80,120],(list(), 1, 300))"
   ]
  },
  {
   "cell_type": "code",
   "execution_count": 39,
   "metadata": {},
   "outputs": [
    {
     "data": {
      "text/plain": [
       "['13', '1', '12', '2', '45', '1', '12']"
      ]
     },
     "execution_count": 39,
     "metadata": {},
     "output_type": "execute_result"
    }
   ],
   "source": [
    "depth_first_tree_search(p).solution()"
   ]
  },
  {
   "cell_type": "code",
   "execution_count": 40,
   "metadata": {},
   "outputs": [
    {
     "data": {
      "text/plain": [
       "['12', '1', '45', '2', '12', '1', '13']"
      ]
     },
     "execution_count": 40,
     "metadata": {},
     "output_type": "execute_result"
    }
   ],
   "source": [
    "breadth_first_tree_search(p).solution()"
   ]
  },
  {
   "cell_type": "markdown",
   "metadata": {},
   "source": []
  },
  {
   "cell_type": "code",
   "execution_count": 62,
   "metadata": {},
   "outputs": [
    {
     "name": "stdout",
     "output_type": "stream",
     "text": [
      "Solución: ['13', '1', '12', '2', '45', '1', '12']\n",
      "Algoritmo: depth_first_tree_search\n",
      "Longitud de la solución: 7. Nodos analizados: 26338\n"
     ]
    }
   ],
   "source": [
    "# Aparece un error si incluyo la heuristica\n",
    "resuelve_analizando(Problema_con_Analizados(p),depth_first_tree_search)"
   ]
  },
  {
   "cell_type": "code",
   "execution_count": 47,
   "metadata": {},
   "outputs": [
    {
     "name": "stdout",
     "output_type": "stream",
     "text": [
      "Solución: ['12', '1', '45', '2', '12', '1', '13']\n",
      "Algoritmo: breadth_first_tree_search\n",
      "Longitud de la solución: 7. Nodos analizados: 15859\n"
     ]
    }
   ],
   "source": [
    "resuelve_analizando(Problema_con_Analizados(p),breadth_first_tree_search)"
   ]
  },
  {
   "cell_type": "markdown",
   "metadata": {},
   "source": [
    "## Problema Puzzle matemático\n",
    "### Comentarios\n",
    "#### -  Usamos para resolverlo dfs (tree o graph) o bfs (tree). Para este problema ambas son completas; pero dfs es mucho más eficiente. Esto se debe a que dfs encuentra rápido la primera solucion y bfs analiza todos los nodados hasta llegar al ultimo nivel.\n",
    "#### -  Tanto a* como bfgs no llegan a acabar. Desconocemos por qué.\n",
    "#### -  Para representarlo hemos considerado 25 casillas, donde 12 son de operaciones y 13 de posiciones de operandos, de los que 4 vienen precolocados.\n",
    "#### - La lista \"operaciones\" bien podría ser una entrada del problema en la que se nos especifica cuál es el tablero a relleanar, siendo \"Comienzo\" la primera casilla en caso de estar vacía; los nombres de operaciones, una casilla con dicha operación seguida de una casilla vacía, y los nombres de operaciones seguidos de una cifra, dos casillas consecutivas no vacías.En el caso resuelto, el tamaño de la lista es 13.\n",
    "#### -El algoritmo resuelve el problema para un caso general (modificando los estados iniciales y final, asi como la lista operaciones)\n",
    "#### - En el estado se guardan una tupla con las cifras todavía no colocadas,el índice que marca la casilla actual para conocer la operación cerrespondiente y el valor acumulado. El estado objetivo es aquel donde no quedan  cifras por colocar, se han ocupado todas las casillas y se tiene el valor esperado. Para el mismo problema en un caso general, el estado onjetivo sería la tupla vacía, el tamaño de la lista operaciones, y el resultado que debe dar la sucesión de operaciones.\n",
    "#### - El array operaciones concreta cómo es el tablero, es decir, la sucesión de operaciones a realizar.\n",
    "#### - No consideramos la posibilidad de obtener el resultado con algun casilla sin colocar.\n",
    "#### - Las acciones consideradas son o bien operar una casilla precolocada o bien colocar una cifra y realizar la operación correspondiente. \n",
    "#### - Coste: No hemos redefinido la función coste_de_aplicar_accion ya que ninguna acción posee un coste distinto.\n",
    "#### - Heuristica: No se puede definir heurística alguna puesto que es imposible determinar si un estado tiene más posibilidades de alcanzar una solución que otro, puesto que solamente realizando todas las operaciones sabremos si el resultado final es el deseado o no."
   ]
  },
  {
   "cell_type": "code",
   "execution_count": 49,
   "metadata": {},
   "outputs": [],
   "source": [
    "operaciones = [\"Comienzo\",\"Suma 13\",\"Multiplicacion\",\"Division\",\"Suma\",\"Suma 12\",\"Multiplicacion\",\"Resta\",\"Resta 11\",\"Suma\",\"Multiplicacion\",\"Division\",\"Resta 10\"]\n",
    "class Puzzle(Problem):\n",
    "    \"\"\"estado : numeros por colocar, casillas con las que hemos operado(incluyendo las prefijadas), valor actual\"\"\"\n",
    "    def __init__ (self,initial = ((1,2,3,4,5,6,7,8,9),0,0),goal = ((),13,66)):\n",
    "        self.initial= initial\n",
    "        self.goal = goal\n",
    "        \n",
    "    def actions (self,estado):\n",
    "        indice = estado[1]\n",
    "        if indice < len(operaciones):\n",
    "            operacion = operaciones[indice].split()\n",
    "            if len(operacion) == 2 :\n",
    "                return [operaciones[indice]]\n",
    "            else:\n",
    "                accs = list()\n",
    "                for i in range(0,len(estado[0])):\n",
    "                    accs.append(\"Colocar el numero \" + str(estado[0][i]))\n",
    "                return accs\n",
    "        else  : return []\n",
    "        \n",
    "    def result (self,estado,accion):\n",
    "        l = list(estado[0])\n",
    "        indice = estado[1]\n",
    "        num = estado[2]\n",
    "        operacion = accion.split()\n",
    "        if len(operacion) == 2 :\n",
    "            if operacion[0] == \"Suma\":\n",
    "                            num += int(operacion[1])\n",
    "            elif operacion[0] == \"Multiplicacion\":\n",
    "                            num *= int(operacion[1])\n",
    "            elif operacion[0] == \"Division\":\n",
    "                            num /= int(operacion[1])\n",
    "            elif operacion[0] == \"Resta\":\n",
    "                            num -= int(operacion[1])\n",
    "        else:\n",
    "            for elem in l:\n",
    "                if accion == \"Colocar el numero \" + str(elem):\n",
    "                        l.remove(elem)\n",
    "                        if operaciones[indice] == \"Comienzo\":\n",
    "                            num = elem\n",
    "                        elif operaciones[indice] == \"Suma\":\n",
    "                            num += elem\n",
    "                        elif operaciones[indice] == \"Multiplicacion\":\n",
    "                            num *= elem\n",
    "                        elif operaciones[indice] == \"Division\":\n",
    "                            num /= elem\n",
    "                        elif operaciones[indice] == \"Resta\":\n",
    "                            num -= elem\n",
    "                            \n",
    "        return (tuple(l),indice+1,num)\n",
    "    \n",
    "    def h(self, node):\n",
    "        \"\"\" Return the heuristic value for a given state. \"\"\"\n",
    "        return 1"
   ]
  },
  {
   "cell_type": "code",
   "execution_count": 50,
   "metadata": {},
   "outputs": [
    {
     "data": {
      "text/plain": [
       "['Colocar el numero 1',\n",
       " 'Suma 13',\n",
       " 'Colocar el numero 2',\n",
       " 'Colocar el numero 4',\n",
       " 'Colocar el numero 7',\n",
       " 'Suma 12',\n",
       " 'Colocar el numero 5',\n",
       " 'Colocar el numero 8',\n",
       " 'Resta 11',\n",
       " 'Colocar el numero 3',\n",
       " 'Colocar el numero 6',\n",
       " 'Colocar el numero 9',\n",
       " 'Resta 10']"
      ]
     },
     "execution_count": 50,
     "metadata": {},
     "output_type": "execute_result"
    }
   ],
   "source": [
    "breadth_first_tree_search(Puzzle()).solution()"
   ]
  },
  {
   "cell_type": "code",
   "execution_count": 52,
   "metadata": {},
   "outputs": [
    {
     "data": {
      "text/plain": [
       "['Colocar el numero 9',\n",
       " 'Suma 13',\n",
       " 'Colocar el numero 7',\n",
       " 'Colocar el numero 2',\n",
       " 'Colocar el numero 8',\n",
       " 'Suma 12',\n",
       " 'Colocar el numero 4',\n",
       " 'Colocar el numero 3',\n",
       " 'Resta 11',\n",
       " 'Colocar el numero 6',\n",
       " 'Colocar el numero 1',\n",
       " 'Colocar el numero 5',\n",
       " 'Resta 10']"
      ]
     },
     "execution_count": 52,
     "metadata": {},
     "output_type": "execute_result"
    }
   ],
   "source": [
    "depth_first_graph_search(Puzzle()).solution()"
   ]
  },
  {
   "cell_type": "code",
   "execution_count": 53,
   "metadata": {},
   "outputs": [
    {
     "data": {
      "text/plain": [
       "['Colocar el numero 9',\n",
       " 'Suma 13',\n",
       " 'Colocar el numero 7',\n",
       " 'Colocar el numero 2',\n",
       " 'Colocar el numero 8',\n",
       " 'Suma 12',\n",
       " 'Colocar el numero 4',\n",
       " 'Colocar el numero 3',\n",
       " 'Resta 11',\n",
       " 'Colocar el numero 6',\n",
       " 'Colocar el numero 1',\n",
       " 'Colocar el numero 5',\n",
       " 'Resta 10']"
      ]
     },
     "execution_count": 53,
     "metadata": {},
     "output_type": "execute_result"
    }
   ],
   "source": [
    "depth_first_tree_search(Puzzle()).solution()"
   ]
  },
  {
   "cell_type": "code",
   "execution_count": 54,
   "metadata": {},
   "outputs": [
    {
     "name": "stdout",
     "output_type": "stream",
     "text": [
      "Solución: ['Colocar el numero 1', 'Suma 13', 'Colocar el numero 2', 'Colocar el numero 4', 'Colocar el numero 7', 'Suma 12', 'Colocar el numero 5', 'Colocar el numero 8', 'Resta 11', 'Colocar el numero 3', 'Colocar el numero 6', 'Colocar el numero 9', 'Resta 10']\n",
      "Algoritmo: breadth_first_tree_search\n",
      "Longitud de la solución: 13. Nodos analizados: 1051040\n"
     ]
    }
   ],
   "source": [
    "resuelve_analizando(Problema_con_Analizados(Puzzle()),breadth_first_tree_search)"
   ]
  },
  {
   "cell_type": "code",
   "execution_count": 55,
   "metadata": {},
   "outputs": [
    {
     "name": "stdout",
     "output_type": "stream",
     "text": [
      "Solución: ['Colocar el numero 9', 'Suma 13', 'Colocar el numero 7', 'Colocar el numero 2', 'Colocar el numero 8', 'Suma 12', 'Colocar el numero 4', 'Colocar el numero 3', 'Resta 11', 'Colocar el numero 6', 'Colocar el numero 1', 'Colocar el numero 5', 'Resta 10']\n",
      "Algoritmo: depth_first_tree_search\n",
      "Longitud de la solución: 13. Nodos analizados: 33886\n"
     ]
    }
   ],
   "source": [
    "resuelve_analizando(Problema_con_Analizados(Puzzle()),depth_first_tree_search)"
   ]
  },
  {
   "cell_type": "code",
   "execution_count": 56,
   "metadata": {},
   "outputs": [
    {
     "name": "stdout",
     "output_type": "stream",
     "text": [
      "Solución: ['Colocar el numero 9', 'Suma 13', 'Colocar el numero 7', 'Colocar el numero 2', 'Colocar el numero 8', 'Suma 12', 'Colocar el numero 4', 'Colocar el numero 3', 'Resta 11', 'Colocar el numero 6', 'Colocar el numero 1', 'Colocar el numero 5', 'Resta 10']\n",
      "Algoritmo: depth_first_graph_search\n",
      "Longitud de la solución: 13. Nodos analizados: 27928\n"
     ]
    }
   ],
   "source": [
    "resuelve_analizando(Problema_con_Analizados(Puzzle()),depth_first_graph_search)"
   ]
  }
 ],
 "metadata": {
  "kernelspec": {
   "display_name": "Python 3",
   "language": "python",
   "name": "python3"
  },
  "language_info": {
   "codemirror_mode": {
    "name": "ipython",
    "version": 3
   },
   "file_extension": ".py",
   "mimetype": "text/x-python",
   "name": "python",
   "nbconvert_exporter": "python",
   "pygments_lexer": "ipython3",
   "version": "3.8.3"
  }
 },
 "nbformat": 4,
 "nbformat_minor": 4
}

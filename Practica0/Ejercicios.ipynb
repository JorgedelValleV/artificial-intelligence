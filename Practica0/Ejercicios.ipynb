{
 "cells": [
  {
   "cell_type": "markdown",
   "metadata": {},
   "source": [
    "## Resuelve los siguientes ejercicios en este archivo y entregalo en el campus al final de la clase."
   ]
  },
  {
   "cell_type": "markdown",
   "metadata": {},
   "source": [
    "**_Ejercicio 1_**. Escribe un programa que calcule el volumen de un cono a partir del radio de la base y su altura. Usa la siguiente fórmula:\n",
    "volumen = pi * radio * radio * altura / 3\n",
    "Solicita los valores de radio y altura al usuario.  El valor aproximado de pi es 3.14159.\n",
    "\n"
   ]
  },
  {
   "cell_type": "code",
   "execution_count": 3,
   "metadata": {},
   "outputs": [
    {
     "name": "stdout",
     "output_type": "stream",
     "text": [
      "Cono dime tu radio:2\n",
      "Cono dime tu altura:2\n"
     ]
    },
    {
     "ename": "TypeError",
     "evalue": "can't multiply sequence by non-int of type 'float'",
     "output_type": "error",
     "traceback": [
      "\u001b[1;31m---------------------------------------------------------------------------\u001b[0m",
      "\u001b[1;31mTypeError\u001b[0m                                 Traceback (most recent call last)",
      "\u001b[1;32m<ipython-input-3-58d4f2368093>\u001b[0m in \u001b[0;36m<module>\u001b[1;34m\u001b[0m\n\u001b[0;32m      3\u001b[0m \u001b[0mradio\u001b[0m \u001b[1;33m=\u001b[0m \u001b[0minput\u001b[0m\u001b[1;33m(\u001b[0m\u001b[1;34m'Cono dime tu radio:'\u001b[0m\u001b[1;33m)\u001b[0m\u001b[1;33m\u001b[0m\u001b[1;33m\u001b[0m\u001b[0m\n\u001b[0;32m      4\u001b[0m \u001b[0maltura\u001b[0m \u001b[1;33m=\u001b[0m \u001b[0minput\u001b[0m\u001b[1;33m(\u001b[0m\u001b[1;34m'Cono dime tu altura:'\u001b[0m\u001b[1;33m)\u001b[0m\u001b[1;33m\u001b[0m\u001b[1;33m\u001b[0m\u001b[0m\n\u001b[1;32m----> 5\u001b[1;33m \u001b[0mvolumen\u001b[0m \u001b[1;33m=\u001b[0m\u001b[0mmath\u001b[0m\u001b[1;33m.\u001b[0m\u001b[0mpi\u001b[0m\u001b[1;33m*\u001b[0m\u001b[0mradio\u001b[0m\u001b[1;33m*\u001b[0m\u001b[0mradio\u001b[0m\u001b[1;33m*\u001b[0m\u001b[0maltura\u001b[0m\u001b[1;33m\u001b[0m\u001b[1;33m\u001b[0m\u001b[0m\n\u001b[0m\u001b[0;32m      6\u001b[0m \u001b[0mvolumen\u001b[0m \u001b[1;33m/=\u001b[0m \u001b[1;36m3\u001b[0m\u001b[1;33m\u001b[0m\u001b[1;33m\u001b[0m\u001b[0m\n\u001b[0;32m      7\u001b[0m \u001b[0mvolumen\u001b[0m\u001b[1;33m\u001b[0m\u001b[1;33m\u001b[0m\u001b[0m\n",
      "\u001b[1;31mTypeError\u001b[0m: can't multiply sequence by non-int of type 'float'"
     ]
    }
   ],
   "source": [
    "# Escribe aquí la solución del ejercicio 1.\n",
    "import math\n",
    "radio = input('Cono dime tu radio:')\n",
    "altura = input('Cono dime tu altura:')\n",
    "volumen =math.pi*radio*radio*altura\n",
    "volumen /= 3\n",
    "volumen"
   ]
  },
  {
   "cell_type": "markdown",
   "metadata": {},
   "source": [
    "**_Ejercicio 2_**.  Escribe un programa que clasifique los elementos de una lista en positivos y negativos. Los elementos positivos deben añadirse a una lista y los negativos a otra. Si la lista original contiene ceros, se deben ignorar."
   ]
  },
  {
   "cell_type": "code",
   "execution_count": 11,
   "metadata": {},
   "outputs": [
    {
     "name": "stdout",
     "output_type": "stream",
     "text": [
      "[7, 6, 234]\n"
     ]
    },
    {
     "data": {
      "text/plain": [
       "[-9, -4, -7]"
      ]
     },
     "execution_count": 11,
     "metadata": {},
     "output_type": "execute_result"
    }
   ],
   "source": [
    "# Escribe aquí la solución del ejercicio 2.\n",
    "#Ejemplo: \n",
    "#lista_original = [7, 6, -9, 234, -4, 0, -7]\n",
    "#Positivos: [7, 6, 234]\n",
    "#Negativos: [-9, -4, -7]\n",
    "lista_original = [7, 6, -9, 234, -4, 0, -7]\n",
    "positivos = []\n",
    "negativos = []\n",
    "for elemento in lista_original: \n",
    "    if elemento > 0:\n",
    "        positivos.append(elemento)\n",
    "    elif elemento < 0 :\n",
    "        negativos.append(elemento)\n",
    "\n",
    "print(positivos)\n",
    "negativos"
   ]
  },
  {
   "cell_type": "markdown",
   "metadata": {},
   "source": [
    "**_Ejercicio 3_**.  Escribir una función cuadrados(l) que recibiendo una secuencia l de números, devuelve la lista de los cuadrados de esos números, en el mismo orden. Por ejemplo:\n",
    "\tcuadrados([4,1,5.2,3,8])\n",
    "\t[16, 1, 27.040000000000003, 9, 64]\n",
    "\tHacer dos versiones: una usando un bucle explícito, y la otra mediante definición de listas por comprensión."
   ]
  },
  {
   "cell_type": "code",
   "execution_count": 3,
   "metadata": {},
   "outputs": [],
   "source": [
    "# Escribe aquí la solución del ejercicio 3.\n",
    "# Escribir una función cuadrados(l) que recibiendo una secuencia l de números,\n",
    "# devuelve la lista de los cuadrados de esos números, en el mismo orden.\n",
    "\n",
    "\n",
    "# Por ejemplo:\n",
    "# \n",
    "# >>> cuadrados([4,1,5.2,3,8])\n",
    "# [16, 1, 27.040000000000003, 9, 64]\n",
    "\n",
    "# Hacer dos versiones: una usando un bucle explícito, y la otra mediante\n",
    "# definición de listas por comprensión.\n",
    "# ---------------------------------------------------------------------------\n",
    "cuadrados = [4,1,5.2,3,8]\n",
    "a=[]\n",
    "for x in cuadrados:\n",
    "    a\n",
    "b = [x**2 for x in cuadrados]\n",
    "print(b)"
   ]
  },
  {
   "cell_type": "code",
   "execution_count": null,
   "metadata": {},
   "outputs": [],
   "source": []
  }
 ],
 "metadata": {
  "kernelspec": {
   "display_name": "Python 3",
   "language": "python",
   "name": "python3"
  },
  "language_info": {
   "codemirror_mode": {
    "name": "ipython",
    "version": 3
   },
   "file_extension": ".py",
   "mimetype": "text/x-python",
   "name": "python",
   "nbconvert_exporter": "python",
   "pygments_lexer": "ipython3",
   "version": "3.8.3"
  }
 },
 "nbformat": 4,
 "nbformat_minor": 2
}

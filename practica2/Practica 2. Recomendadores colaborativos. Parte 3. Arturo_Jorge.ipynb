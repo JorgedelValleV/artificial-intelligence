{
 "cells": [
  {
   "cell_type": "markdown",
   "metadata": {},
   "source": [
    "## Grupo2. Arturo y Jorge"
   ]
  },
  {
   "cell_type": "markdown",
   "metadata": {},
   "source": [
    "## Tercera parte.  Recomendacion basada en filtrado colaborativo."
   ]
  },
  {
   "cell_type": "markdown",
   "metadata": {},
   "source": [
    "En esta tercera parte utilizaremos la librería SURPRISE Se puede consultar la documentacion en http://surpriselib.com/\n",
    "\n",
    "Para instalarla: conda install -c conda-forge scikit-surprise o pip install numpy pip install scikit-surprise\n",
    "\n",
    "La librería SurPRISE (Simple Python RecommendatIon System Engine) tiene algoritmos de predición de ratings incluidos: baseline algorithms, neighborhood methods, matrix factorization-based ( SVD, PMF, SVD++, NMF) y otros. También tiene predefinidas las medidas de similitud mas comunes sobre vectores (cosine, MSD, pearson…) Una de las cosas más utiles es que proporciona herramientas para evaluar, analizar y comparar el rendimiento de distitnos algoritmos. Lo que vamos a hacer en esta parte de la práctica es probar varios procedimientos de evaluación cruzada midiendo datos sobre errores entre el valor real (conocido) y la predicción del recomendador. Las siglas corresponden a las siguientes medidas:\n",
    "\n",
    "MAE: Mean Absolute Error\n",
    "RMSE: Root mean square error (RMSE)\n",
    "MSE: mean square error is defined as the expected value of the square of the difference between the estimator and the parameter. -square root of the mean square error.\n",
    "\n",
    "Vamos a ejecutar algunos recomendadores y evaluarlos para poder comentar los resultados.\n"
   ]
  },
  {
   "cell_type": "code",
   "execution_count": 1,
   "metadata": {},
   "outputs": [
    {
     "name": "stdout",
     "output_type": "stream",
     "text": [
      "Requirement already satisfied: numpy in d:\\jorge\\herramientasuni\\anaconda\\lib\\site-packages (1.18.5)\n",
      "Requirement already satisfied: pip in d:\\jorge\\herramientasuni\\anaconda\\lib\\site-packages (20.1.1)\n",
      "Requirement already satisfied: install in d:\\jorge\\herramientasuni\\anaconda\\lib\\site-packages (1.3.4)\n",
      "Requirement already satisfied: scikit-surprise in d:\\jorge\\herramientasuni\\anaconda\\lib\\site-packages (1.1.1)\n",
      "Requirement already satisfied: scipy>=1.0.0 in d:\\jorge\\herramientasuni\\anaconda\\lib\\site-packages (from scikit-surprise) (1.5.0)\n",
      "Requirement already satisfied: joblib>=0.11 in d:\\jorge\\herramientasuni\\anaconda\\lib\\site-packages (from scikit-surprise) (0.16.0)\n",
      "Requirement already satisfied: six>=1.10.0 in c:\\users\\usuario\\appdata\\roaming\\python\\python38\\site-packages (from scikit-surprise) (1.14.0)\n",
      "Note: you may need to restart the kernel to use updated packages.\n"
     ]
    }
   ],
   "source": [
    "pip install numpy pip install scikit-surprise"
   ]
  },
  {
   "cell_type": "code",
   "execution_count": 2,
   "metadata": {},
   "outputs": [],
   "source": [
    "from collections import defaultdict\n",
    "import numpy as np\n",
    "\n",
    "from surprise import KNNBasic\n",
    "from surprise import KNNWithMeans\n",
    "from surprise import KNNWithZScore\n",
    "from surprise import KNNBaseline\n",
    "\n",
    "from surprise import Dataset\n",
    "from surprise import accuracy\n",
    "from surprise.model_selection import train_test_split"
   ]
  },
  {
   "cell_type": "code",
   "execution_count": 3,
   "metadata": {},
   "outputs": [
    {
     "name": "stdout",
     "output_type": "stream",
     "text": [
      "Evaluating RMSE, MAE of algorithm SVD on 5 split(s).\n",
      "\n",
      "                  Fold 1  Fold 2  Fold 3  Fold 4  Fold 5  Mean    Std     \n",
      "RMSE (testset)    0.9260  0.9408  0.9403  0.9403  0.9352  0.9365  0.0056  \n",
      "MAE (testset)     0.7296  0.7402  0.7409  0.7427  0.7355  0.7378  0.0047  \n",
      "Fit time          4.53    4.68    4.45    4.44    4.48    4.52    0.09    \n",
      "Test time         0.22    0.14    0.16    0.17    0.16    0.17    0.03    \n"
     ]
    },
    {
     "data": {
      "text/plain": [
       "{'test_rmse': array([0.92604976, 0.94079114, 0.9403245 , 0.94028687, 0.93517641]),\n",
       " 'test_mae': array([0.72957862, 0.74016299, 0.74087551, 0.74270672, 0.73552781]),\n",
       " 'fit_time': (4.525974988937378,\n",
       "  4.684255361557007,\n",
       "  4.452497243881226,\n",
       "  4.441133975982666,\n",
       "  4.477470397949219),\n",
       " 'test_time': (0.21967840194702148,\n",
       "  0.14248132705688477,\n",
       "  0.16302037239074707,\n",
       "  0.17180395126342773,\n",
       "  0.1620171070098877)}"
      ]
     },
     "execution_count": 3,
     "metadata": {},
     "output_type": "execute_result"
    }
   ],
   "source": [
    "## Ejemplo getting started de la documentación de SURPRISE\n",
    "##http://surpriselib.com/\n",
    "\n",
    "from surprise import SVD\n",
    "from surprise import Dataset\n",
    "from surprise.model_selection import cross_validate\n",
    "\n",
    "# Load the movielens-100k dataset (download it if needed).\n",
    "data = Dataset.load_builtin('ml-100k')\n",
    "\n",
    "# Use the famous SVD algorithm.\n",
    "algo = SVD()\n",
    "\n",
    "# Run 5-fold cross-validation and print results.\n",
    "cross_validate(algo, data, measures=['RMSE', 'MAE'], cv=5, verbose=True)\n",
    "\n"
   ]
  },
  {
   "cell_type": "markdown",
   "metadata": {},
   "source": []
  },
  {
   "cell_type": "code",
   "execution_count": 4,
   "metadata": {},
   "outputs": [],
   "source": [
    "# Evaluacion extracted from surprise: \n",
    "# https://surprise.readthedocs.io/en/stable/FAQ.html#how-to-compute-precision-k-and-recall-k\n",
    "def measures_at_k(predictions, k, th_recom, th_relev):\n",
    "    '''Return precision and recall at k metrics for each user.'''\n",
    "\n",
    "    # First map the predictions to each user.\n",
    "    user_est_true = defaultdict(list)\n",
    "    for uid, _, true_r, est, _ in predictions:\n",
    "        user_est_true[uid].append((est, true_r))\n",
    "\n",
    "    precisions = dict()\n",
    "    recalls = dict()\n",
    "    onehits = dict()\n",
    "    mrr = dict()\n",
    "    \n",
    "    for uid, user_ratings in user_est_true.items():\n",
    "        \n",
    "        # Sort user ratings by estimated value\n",
    "        user_ratings.sort(key=lambda x: x[0], reverse=True)\n",
    "\n",
    "        # Number of relevant items\n",
    "        n_rel = sum((true_r >= th_relev) for (_, true_r) in user_ratings)\n",
    "\n",
    "        # Number of recommended items in top k\n",
    "        n_rec_k = sum((est >= th_recom) for (est, _) in user_ratings[:k])\n",
    "\n",
    "        # Number of relevant and recommended items in top k\n",
    "        n_rel_and_rec_k = sum(((true_r >= th_relev) and (est >= th_recom))\n",
    "                              for (est, true_r) in user_ratings[:k])\n",
    "\n",
    "        # Precision@K: Proportion of recommended items that are relevant\n",
    "        precisions[uid] = n_rel_and_rec_k / n_rec_k if n_rec_k != 0 else 0\n",
    "\n",
    "        # Recall@K: Proportion of relevant items that are recommended\n",
    "        recalls[uid] = n_rel_and_rec_k / n_rel if n_rel != 0 else 0\n",
    "       \n",
    "        \n",
    "    return precisions, recalls\n"
   ]
  },
  {
   "cell_type": "code",
   "execution_count": 5,
   "metadata": {},
   "outputs": [],
   "source": [
    "def f1(precision, recall):\n",
    "    \"\"\"\n",
    "        Funcion que calcula el f1 (media armónica) en funcion de precision y recall\n",
    "    \"\"\"\n",
    "    denominador = precision + recall\n",
    "    \n",
    "    if denominador == 0:\n",
    "        return 0\n",
    "    else:\n",
    "        return (2 * precision * recall) / denominador"
   ]
  },
  {
   "cell_type": "code",
   "execution_count": 6,
   "metadata": {},
   "outputs": [],
   "source": [
    "def get_results(recommendations, k, knn):\n",
    "    \"\"\"\n",
    "        Function to get the measures results \n",
    "    \"\"\"\n",
    "    # threshold = 4 --> solo se tienen en cuenta peliculas que hayan \n",
    "    # sido puntuadas con 4 o 5 estrellas\n",
    "    precisions, recalls  = measures_at_k(recommendations, k, th_recom=4, th_relev=1)\n",
    "    \n",
    "    # Measures can then be averaged over all users\n",
    "    precision_result = sum(prec for prec in precisions.values()) / len(precisions)\n",
    "    recall_result = sum(rec for rec in recalls.values()) / len(recalls)\n",
    "    # Media armónica  \n",
    "    f1_result = f1(precision_result, recall_result)\n",
    "    # En este archivo se volcarán los resultados de las métricas. Tiene que existir. \n",
    "    #f = open(\"C:/Users/user/practicas/P2/results_user_cf.csv\", 'a')\n",
    "    #f = open(\"C:/hlocal/results_user_cf.csv\", 'a')\n",
    "    f = open(\"C:/Users/uSUARIO/Ejercicios IA/practica2/results_user_cf.csv\", 'a')\n",
    "    f.write(str(k) + ';' + knn + \";\" + str(precision_result) + ';' + str(recall_result) + ';' +  str(f1_result) +  '\\n') \n",
    "    f.close()\n",
    "    "
   ]
  },
  {
   "cell_type": "code",
   "execution_count": 7,
   "metadata": {},
   "outputs": [],
   "source": [
    "# Hemos cargado antes los datos de movieLens para 100K\n",
    "# data = Dataset.load_builtin('ml-100k')"
   ]
  },
  {
   "cell_type": "code",
   "execution_count": 8,
   "metadata": {},
   "outputs": [],
   "source": [
    "# creo dos conjuntos de datos, el training set y el evaluation set\n",
    "# cada uno contendra la mitad de los datos\n",
    "training_set, evaluation_set = train_test_split(data, test_size=.5)"
   ]
  },
  {
   "cell_type": "code",
   "execution_count": 9,
   "metadata": {},
   "outputs": [],
   "source": [
    "# Ahora determino cual es el algoritmo que voy a usar de recomendacion\n",
    "# en este caso voy a usar el algoritmo KNN para encontrar las similitudes entre items\n",
    "recommendation_algorithm = KNNBasic(k=100, sim_options={'name': 'pearson_baseline', 'user_based': True})\n",
    "#print(recommendation_algorithm)"
   ]
  },
  {
   "cell_type": "code",
   "execution_count": 10,
   "metadata": {},
   "outputs": [
    {
     "name": "stdout",
     "output_type": "stream",
     "text": [
      "Estimating biases using als...\n",
      "Computing the pearson_baseline similarity matrix...\n",
      "Done computing similarity matrix.\n"
     ]
    },
    {
     "data": {
      "text/plain": [
       "<surprise.prediction_algorithms.knns.KNNBasic at 0x25236b69580>"
      ]
     },
     "execution_count": 10,
     "metadata": {},
     "output_type": "execute_result"
    }
   ],
   "source": [
    "# aplico el algoritmo sobre el training_set\n",
    "recommendation_algorithm.fit(training_set)\n",
    "#print(recommendation_algorithm)"
   ]
  },
  {
   "cell_type": "code",
   "execution_count": 11,
   "metadata": {},
   "outputs": [],
   "source": [
    "# aplico el algoritmo sobre el evaluation set y obtengo las predicciones en las recomendaciones\n",
    "recommendations = recommendation_algorithm.test(evaluation_set)\n",
    "#print(recommendations)"
   ]
  },
  {
   "cell_type": "code",
   "execution_count": 12,
   "metadata": {},
   "outputs": [],
   "source": [
    "K = 10\n",
    "for k in range(K):\n",
    "    get_results(recommendations, k+1, \"knn_basic\")"
   ]
  },
  {
   "cell_type": "code",
   "execution_count": 13,
   "metadata": {},
   "outputs": [
    {
     "name": "stdout",
     "output_type": "stream",
     "text": [
      "Estimating biases using als...\n",
      "Computing the pearson_baseline similarity matrix...\n",
      "Done computing similarity matrix.\n"
     ]
    }
   ],
   "source": [
    "##########################################################\n",
    "# Hacer distintas pruebas con el resto de tipos KNN\n",
    "recommendation_algorithm = KNNWithMeans(k=100, sim_options={'name': 'pearson_baseline', 'user_based': True})\n",
    "\n",
    "# aplico el algoritmo sobre el training_set\n",
    "recommendation_algorithm.fit(training_set)\n",
    "\n",
    "# aplico el algoritmo sobre el evaluation set y obtengo las predicciones en las recomendaciones\n",
    "recommendations = recommendation_algorithm.test(evaluation_set)\n",
    "\n",
    "K = 10\n",
    "for k in range(K):\n",
    "    get_results(recommendations, k+1, \"knn_withmeans\")"
   ]
  },
  {
   "cell_type": "code",
   "execution_count": 14,
   "metadata": {},
   "outputs": [
    {
     "name": "stdout",
     "output_type": "stream",
     "text": [
      "Estimating biases using als...\n",
      "Computing the pearson_baseline similarity matrix...\n",
      "Done computing similarity matrix.\n"
     ]
    }
   ],
   "source": [
    "##########################################################\n",
    "# Hago lo mismo con el resto de tipos KNN\n",
    "recommendation_algorithm = KNNWithZScore(k=100, sim_options={'name': 'pearson_baseline', 'user_based': True})\n",
    "\n",
    "# aplico el algoritmo sobre el training_set\n",
    "recommendation_algorithm.fit(training_set)\n",
    "\n",
    "# aplico el algoritmo sobre el evaluation set y obtengo las predicciones en las recomendaciones\n",
    "recommendations = recommendation_algorithm.test(evaluation_set)\n",
    "\n",
    "K = 10\n",
    "for k in range(K):\n",
    "    get_results(recommendations, k+1, \"knn_withzscore\")"
   ]
  },
  {
   "cell_type": "code",
   "execution_count": 15,
   "metadata": {},
   "outputs": [
    {
     "name": "stdout",
     "output_type": "stream",
     "text": [
      "Estimating biases using als...\n",
      "Computing the pearson_baseline similarity matrix...\n",
      "Done computing similarity matrix.\n"
     ]
    }
   ],
   "source": [
    "##########################################################\n",
    "# Hago lo mismo con el resto de tipos KNN\n",
    "recommendation_algorithm = KNNBaseline(k=100, sim_options={'name': 'pearson_baseline', 'user_based': True})\n",
    "\n",
    "# aplico el algoritmo sobre el training_set\n",
    "recommendation_algorithm.fit(training_set)\n",
    "\n",
    "# aplico el algoritmo sobre el evaluation set y obtengo las predicciones en las recomendaciones\n",
    "recommendations = recommendation_algorithm.test(evaluation_set)\n",
    "\n",
    "K = 10\n",
    "for k in range(K):\n",
    "    get_results(recommendations, k+1, \"knn_baseline\")"
   ]
  },
  {
   "cell_type": "markdown",
   "metadata": {},
   "source": [
    "## Ejercicio:  se pide ejecutar, comprender y escribir comentarios razonados sobre la evaluación de distintos recomendadores.\n",
    "    \n",
    "Prueba otros algoritmos de predicción de ratings basados en la estimación de los vecinos más próximos y realiza evaluaciones de su comportamiento. Comenta los resultados.¶\n",
    "Puedes consultar la documentación en https://surprise.readthedocs.io/en/stable/knn_inspired.html#"
   ]
  },
  {
   "cell_type": "markdown",
   "metadata": {},
   "source": [
    "### Comentario\n",
    "\n",
    "    Algoritmo      Precision   Recall       F1\n",
    "    knn_basic      0.94        0.035-0.17   0.06-0.29\n",
    "    knn_withmeans  0.82        0.03-0.19    0.05-0.3132\n",
    "    knn_withzscore 0.83        0.03-0.19    0.06-0.3134\n",
    "    knn_baseline   0.92        0.035-0.20   0.07-0.3225\n",
    "#### El primero y el cuarto tienen mejores precisiones y todos mantienen recalls parecido(los del 1º un poco peores). por tanto el 4º es el que presenta mejor comportamiento"
   ]
  },
  {
   "cell_type": "code",
   "execution_count": 16,
   "metadata": {},
   "outputs": [
    {
     "name": "stdout",
     "output_type": "stream",
     "text": [
      "Estimating biases using als...\n",
      "Computing the pearson_baseline similarity matrix...\n",
      "Done computing similarity matrix.\n"
     ]
    }
   ],
   "source": [
    "# Hago lo mismo con el resto de tipos KNN\n",
    "recommendation_algorithm = KNNBaseline(k=100, sim_options={'name': 'pearson_baseline', 'user_based': False})\n",
    "\n",
    "# aplico el algoritmo sobre el training_set\n",
    "recommendation_algorithm.fit(training_set)\n",
    "\n",
    "# aplico el algoritmo sobre el evaluation set y obtengo las predicciones en las recomendaciones\n",
    "recommendations = recommendation_algorithm.test(evaluation_set)\n",
    "\n",
    "K = 10\n",
    "for k in range(K):\n",
    "    get_results(recommendations, k+1, \"knn_baseline\")"
   ]
  },
  {
   "cell_type": "markdown",
   "metadata": {},
   "source": [
    "### Comentario\n",
    "#### Comparamos user_based True/false con el algoritmo que daba mejores resultados:\n",
    "    Algoritmo      Precision   Recall       F1              User_based\n",
    "    knn_baseline   0.88        0.035-0.19   0.06-0.3225     False\n",
    "    knn_baseline   0.92        0.035-0.20   0.07-0.3211     True\n",
    "    \n",
    "#### No usar used_based empeora la precision, aunque en eficiencia se mantiene parejo."
   ]
  },
  {
   "cell_type": "code",
   "execution_count": 21,
   "metadata": {},
   "outputs": [],
   "source": [
    "# Probamos el funcionamiento de Matrix Factorization-based algorithms\n",
    "from surprise import NMF\n",
    "from surprise import SVD\n",
    "from surprise import SVDpp"
   ]
  },
  {
   "cell_type": "code",
   "execution_count": 20,
   "metadata": {},
   "outputs": [
    {
     "name": "stdout",
     "output_type": "stream",
     "text": [
      "Processing epoch 0\n",
      "Processing epoch 1\n",
      "Processing epoch 2\n",
      "Processing epoch 3\n",
      "Processing epoch 4\n",
      "Processing epoch 5\n",
      "Processing epoch 6\n",
      "Processing epoch 7\n",
      "Processing epoch 8\n",
      "Processing epoch 9\n",
      "Processing epoch 10\n",
      "Processing epoch 11\n",
      "Processing epoch 12\n",
      "Processing epoch 13\n",
      "Processing epoch 14\n",
      "Processing epoch 15\n",
      "Processing epoch 16\n",
      "Processing epoch 17\n",
      "Processing epoch 18\n",
      "Processing epoch 19\n",
      "Processing epoch 20\n",
      "Processing epoch 21\n",
      "Processing epoch 22\n",
      "Processing epoch 23\n",
      "Processing epoch 24\n",
      "Processing epoch 25\n",
      "Processing epoch 26\n",
      "Processing epoch 27\n",
      "Processing epoch 28\n",
      "Processing epoch 29\n",
      "Processing epoch 30\n",
      "Processing epoch 31\n",
      "Processing epoch 32\n",
      "Processing epoch 33\n",
      "Processing epoch 34\n",
      "Processing epoch 35\n",
      "Processing epoch 36\n",
      "Processing epoch 37\n",
      "Processing epoch 38\n",
      "Processing epoch 39\n",
      "Processing epoch 40\n",
      "Processing epoch 41\n",
      "Processing epoch 42\n",
      "Processing epoch 43\n",
      "Processing epoch 44\n",
      "Processing epoch 45\n",
      "Processing epoch 46\n",
      "Processing epoch 47\n",
      "Processing epoch 48\n",
      "Processing epoch 49\n"
     ]
    }
   ],
   "source": [
    "##########################################################\n",
    "# Hago lo mismo con el resto de tipos KNN\n",
    "recommendation_algorithm = NMF(n_factors =100, init_high =1, verbose = True)\n",
    "\n",
    "# aplico el algoritmo sobre el training_set\n",
    "recommendation_algorithm.fit(training_set)\n",
    "\n",
    "# aplico el algoritmo sobre el evaluation set y obtengo las predicciones en las recomendaciones\n",
    "recommendations = recommendation_algorithm.test(evaluation_set)\n",
    "\n",
    "K = 10\n",
    "for k in range(K):\n",
    "    get_results(recommendations, k+1, \"Non-negative Matrix Factorization\")"
   ]
  },
  {
   "cell_type": "code",
   "execution_count": 24,
   "metadata": {},
   "outputs": [
    {
     "name": "stdout",
     "output_type": "stream",
     "text": [
      "Processing epoch 0\n",
      "Processing epoch 1\n",
      "Processing epoch 2\n",
      "Processing epoch 3\n",
      "Processing epoch 4\n",
      "Processing epoch 5\n",
      "Processing epoch 6\n",
      "Processing epoch 7\n",
      "Processing epoch 8\n",
      "Processing epoch 9\n",
      "Processing epoch 10\n",
      "Processing epoch 11\n",
      "Processing epoch 12\n",
      "Processing epoch 13\n",
      "Processing epoch 14\n",
      "Processing epoch 15\n",
      "Processing epoch 16\n",
      "Processing epoch 17\n",
      "Processing epoch 18\n",
      "Processing epoch 19\n",
      "Processing epoch 20\n",
      "Processing epoch 21\n",
      "Processing epoch 22\n",
      "Processing epoch 23\n",
      "Processing epoch 24\n"
     ]
    }
   ],
   "source": [
    "# Hago lo mismo con el resto de tipos KNN\n",
    "recommendation_algorithm = SVD(n_factors =100, n_epochs = 25,  verbose = True)\n",
    "\n",
    "# aplico el algoritmo sobre el training_set\n",
    "recommendation_algorithm.fit(training_set)\n",
    "\n",
    "# aplico el algoritmo sobre el evaluation set y obtengo las predicciones en las recomendaciones\n",
    "recommendations = recommendation_algorithm.test(evaluation_set)\n",
    "\n",
    "K = 10\n",
    "for k in range(K):\n",
    "    get_results(recommendations, k+1, \"SVD\")"
   ]
  },
  {
   "cell_type": "code",
   "execution_count": 25,
   "metadata": {},
   "outputs": [
    {
     "name": "stdout",
     "output_type": "stream",
     "text": [
      "Processing epoch 0\n",
      "Processing epoch 1\n",
      "Processing epoch 2\n",
      "Processing epoch 3\n",
      "Processing epoch 4\n",
      "Processing epoch 5\n",
      "Processing epoch 6\n",
      "Processing epoch 7\n",
      "Processing epoch 8\n",
      "Processing epoch 9\n",
      "Processing epoch 10\n",
      "Processing epoch 11\n",
      "Processing epoch 12\n",
      "Processing epoch 13\n",
      "Processing epoch 14\n",
      "Processing epoch 15\n",
      "Processing epoch 16\n",
      "Processing epoch 17\n",
      "Processing epoch 18\n",
      "Processing epoch 19\n"
     ]
    }
   ],
   "source": [
    "# Hago lo mismo con el resto de tipos KNN\n",
    "recommendation_algorithm = NMF(n_factors =50, n_epochs= 20, verbose = True)\n",
    "\n",
    "# aplico el algoritmo sobre el training_set\n",
    "recommendation_algorithm.fit(training_set)\n",
    "\n",
    "# aplico el algoritmo sobre el evaluation set y obtengo las predicciones en las recomendaciones\n",
    "recommendations = recommendation_algorithm.test(evaluation_set)\n",
    "\n",
    "K = 10\n",
    "for k in range(K):\n",
    "    get_results(recommendations, k+1, \"SVDpp\")"
   ]
  },
  {
   "cell_type": "markdown",
   "metadata": {},
   "source": [
    "### Comentario\n",
    "\n",
    "    Algoritmo      Precision   Recall       F1\n",
    "    knn_baseline   0.92        0.035-0.20   0.07-0.3225\n",
    "    \n",
    "    SVD            0.87        0.033-0.17   0.06-0.29\n",
    "    SVDpp          0.999       0.04-0.38    0.08-0.55\n",
    "    NMZ            0.97        0.038-0.29   0.07-0.45\n",
    "    \n",
    "#### Partiendo de la referencia de KNN_BASELINE que presentaba el mejor comportamiento, observamos quelos algoritmos basados en factorizacion de matrices los mejoran con creces, siendo SVDpp el mejor de entre ellos que es un 77% mas eficiente que baseline segun las metricas analizadas.\n",
    "#### Observar que a pesar de haber precisiones cercanas al 100% , no se obtienen valores pequeños en recall como consecuencia."
   ]
  }
 ],
 "metadata": {
  "kernelspec": {
   "display_name": "Python 3",
   "language": "python",
   "name": "python3"
  },
  "language_info": {
   "codemirror_mode": {
    "name": "ipython",
    "version": 3
   },
   "file_extension": ".py",
   "mimetype": "text/x-python",
   "name": "python",
   "nbconvert_exporter": "python",
   "pygments_lexer": "ipython3",
   "version": "3.8.3"
  }
 },
 "nbformat": 4,
 "nbformat_minor": 2
}

{
 "cells": [
  {
   "cell_type": "markdown",
   "metadata": {},
   "source": [
    "__No te olvides de rellenar esto:__\n",
    "\n",
    "- Número de grupo: 11 \n",
    "- Nombre de los integrantes del grupo: Arturo Ibáñez Martínez, Jorge del Valle Vázquez"
   ]
  },
  {
   "cell_type": "markdown",
   "metadata": {},
   "source": [
    "# Práctica 1\n",
    "\n",
    "> __Fecha de entrega: 11 de abril de 2021__\n",
    "\n",
    "\n",
    "## Parte 2: similitud semántica\n",
    "\n",
    "Una de las grandes ventajas de las representaciones estructuradas es que podemos aprovechar su estructura para calcular similitudes semánticas entre las entidades. En esta ocasión vamos a cacular la similitud entre dos conceptos como:\n",
    "\n",
    "$$Sim(A, B) = \\frac{\\delta(root, C)}{\\delta(root, C) + \\delta(C, A) + \\delta(C, B)}$$\n",
    "\n",
    "siendo:\n",
    "\n",
    "- $\\delta(X, Y)$ el __mínimo__ número de aristas que conecta A y B, siendo A más general que B.\n",
    "- $C = LCS(A, B)$ el concepto más específico de la jerarquía que es más general que A y B (_least common subsummer_).\n",
    "\n",
    "La idea tras esta similitud queda reflejada en la siguiente imagen:\n",
    "\n",
    "<img src=\"sim.png\" alt=\"Similitud\" style=\"width: 300px;\"/>\n",
    "\n",
    "En la práctica pueden existir distintos conceptos C que cumplen la definición de _least common subsummer_ de A y B por lo que es necesario definir cuál de ellos vamos a utilizar. En nuestro caso seleccionaremos __uno de los que maximiza el valor de similitud__. "
   ]
  },
  {
   "cell_type": "markdown",
   "metadata": {},
   "source": [
    "### 1) Obtener la taxonomía con la que vamos a trabajar\n",
    "\n",
    "Utiliza el [punto el acceso](https://query.wikidata.org/) SPARQL de Wikidata para ejecutar una consulta que devuelva todos los pares de entidades $(x, y)$ tal que $x$ es subconcepto directo de $y$ y ambos son un tipos de [instrumentos musicales (Q34379)](https://www.wikidata.org/wiki/Q34379). Debes recuperar tantos las URIs de la entidades como sus etiquetas.\n",
    "\n",
    "Escribe en la siguiente celda la consulta que has utilizado comentada adecuadamente."
   ]
  },
  {
   "cell_type": "raw",
   "metadata": {},
   "source": [
    "SELECT DISTINCT ?a ?aLabel ?b ?bLabel\n",
    "WHERE {\n",
    "  ?b wdt:P279* wd:Q34379.\n",
    "  ?a wdt:P279 ?b.\n",
    "  SERVICE wikibase:label { bd:serviceParam wikibase:language \"[AUTO_LANGUAGE],en\". }\n",
    "}"
   ]
  },
  {
   "cell_type": "markdown",
   "metadata": {},
   "source": [
    "A continuación descarga todas las respuestas en formato _Archivo JSON_ y guardalo en el mismo directorio de la práctica.\n",
    "\n",
    "_Nota: en el momento de realizar esta práctica obtuve 4727 resultados pero el número puede variar al ser Wikidata una base de conocimiento dinámica._"
   ]
  },
  {
   "cell_type": "markdown",
   "metadata": {},
   "source": [
    "### 2) Cargar la taxonomía en memoria\n",
    "\n",
    "Vamos a cargar la taxonomía de clases en memoria para poder operar con ella. Representaremos la jerarquía de lcases mediantes las siguientes estructuras:\n",
    "\n",
    "- Un diccionario que asocia a cada identificador su etiqueta (por ejemplo 'Q34379' -> 'musical instrument')\n",
    "- Un diccionario que asocia cada clase con sus subclases directas (por ejemplo 'Q17172850' -> {'Q101436564', 'Q1067089', 'Q186506', 'Q210970', 'Q223166', ...}, )\n",
    "- Un diccionario que asocia cada clase con sus superclases directas (por ejemplo 'Q5994' -> {'Q3152898', 'Q4951628', 'Q52954'})\n",
    "\n",
    "Tienes libertad para elegir cómo quieres representar la taxonomía en Python:\n",
    "\n",
    "- Puedes usar una clase. En ese caso tendrás que ir añadiendo métodos a la clase para completar cada uno de los apartados de la práctica. Escribe el código de la clase en una única celda y utiliza los métodos que necesites en cada uno de los apartados.\n",
    "- Puedes usar 3 variables globales para representar la taxonomía. En ese caso deberás escribir las operaciones como funciones en cada uno de los apartados de la práctica.\n",
    "\n",
    "En cualquier caso recuerda documentar adecuadamente el código y trata de que sea sencillo de entender.\n",
    "\n",
    "Crea una operación _load_ que reciba el nombre del fichero json y cargue el grafo en memoria usando las estructuras anteriores.\n",
    "\n",
    "```python\n",
    "import json\n",
    "\n",
    "with open(filename, encoding='utf-8') as f:\n",
    "    data = json.load(f)\n",
    "```"
   ]
  },
  {
   "cell_type": "code",
   "execution_count": 1,
   "metadata": {},
   "outputs": [],
   "source": [
    "import json\n",
    "\n",
    "with open(\"query.json\", encoding='utf-8') as f:\n",
    "    data = json.load(f)"
   ]
  },
  {
   "cell_type": "code",
   "execution_count": 6,
   "metadata": {},
   "outputs": [
    {
     "name": "stdout",
     "output_type": "stream",
     "text": [
      "[{'name': 'Frank', 'age': 39}, {'name': 'Jorge', 'age': 21}]\n",
      "{'a': 'http://www.wikidata.org/entity/Q395212', 'aLabel': 'agogô', 'b': 'http://www.wikidata.org/entity/Q101401', 'bLabel': 'campana'}\n",
      "http://www.wikidata.org/entity/Q395212\n",
      "Q395212\n"
     ]
    }
   ],
   "source": [
    "## Ejemplos para entender el acceso del json\n",
    "import json\n",
    "jsonData = '[{\"name\": \"Frank\", \"age\": 39},{\"name\": \"Jorge\", \"age\": 21}]'\n",
    "jsonToPython = json.loads(jsonData)\n",
    "print (jsonToPython)\n",
    "print (data [1] )\n",
    "print (data [1] ['a'])\n",
    "print (data [1] ['a'][31:])"
   ]
  },
  {
   "cell_type": "code",
   "execution_count": 8,
   "metadata": {},
   "outputs": [],
   "source": [
    "## Creamos los tres diccionarios pedidos, teniendo en cuenta que a es subconcepto directo de b\n",
    "etiqueta = dict()\n",
    "subclase = dict()\n",
    "superclase = dict()\n",
    "for elem in data :\n",
    "    etiqueta [elem ['a'] [31:]] = elem ['aLabel']\n",
    "    etiqueta [elem ['b'] [31:]] = elem ['bLabel']\n",
    "    ## Si todavia no se había añadido se crea una lista de un elemento, si no se inserta a la lista previa\n",
    "    if (subclase.get(elem ['b'] [31:]) != None):\n",
    "        subclase [elem ['b'] [31:]].append(elem ['a'] [31:])\n",
    "    else:\n",
    "        subclase [elem ['b'] [31:]] = [elem ['a'] [31:]]\n",
    "    if (superclase.get(elem ['a'] [31:])!=None):\n",
    "        superclase [elem ['a'] [31:]].append(elem ['b'] [31:])\n",
    "    else:\n",
    "        superclase [elem ['a'] [31:]] = [elem ['b'] [31:]]"
   ]
  },
  {
   "cell_type": "code",
   "execution_count": 9,
   "metadata": {},
   "outputs": [
    {
     "name": "stdout",
     "output_type": "stream",
     "text": [
      "instrumento musical\n",
      "['Q27911', 'Q31687', 'Q37137', 'Q186506', 'Q210970', 'Q223166', 'Q1067089', 'Q6164901', 'Q6983813', 'Q25303818', 'Q54285279', 'Q54285818', 'Q60396389', 'Q98116969', 'Q101436564']\n",
      "['Q3152898', 'Q4951628', 'Q52954']\n"
     ]
    }
   ],
   "source": [
    "print (etiqueta['Q34379'])\n",
    "print (subclase.get('Q17172850'))\n",
    "print (superclase.get('Q5994'))"
   ]
  },
  {
   "cell_type": "markdown",
   "metadata": {},
   "source": [
    "### 3) Imprimir un subárbol de la taxonomía\n",
    "\n",
    "Crea una operación _print_tree_ que imprimir la jerarquía de clases a partir de un concepto y hasta un nivel de profundidad determinado.\n",
    "\n",
    "Por ejemplo, a continuación podemos ver el principio de la jerarquía de [voces](https://www.wikidata.org/wiki/Q17172850) con 3 niveles de profundidad:\n",
    "\n",
    "```\n",
    "0 voz (Q17172850)\n",
    "  1 operatic vocal (Q101436564)\n",
    "  1 alto (Q6983813)\n",
    "   2 mezzosoprano ligera (Q6012300)\n",
    "   2 boy alto (Q53395277)\n",
    "   2 alto castrato (Q53395016)\n",
    "   2 contralto (Q37137)\n",
    "  1 contralto (Q37137)\n",
    "   2 contralto cómica (Q5785182)\n",
    "   2 lyric contralto (Q54635214)\n",
    "   2 Tenorino (Q6141663)\n",
    "   2 contralto de coloratura (Q54635184)\n",
    "   2 deep contralto (Q54635335)\n",
    "   2 contralto dramática (Q5785183)\n",
    "  1 bajo (Q27911)\n",
    "   2 heavy acting bass (Q54636271)\n",
    "   2 bajo profundo (Q2532487)\n",
    "   2 bajo buffo (Q1002146)\n",
    "   ...\n",
    "```\n",
    "\n",
    "Como ocurre en todas las grandes bases de conocimiento, dentro de Wikidata hay información que no ha sido bien introducida o está mal clasificada. ¿Puedes encontrar algún ejemplo concreto dentro de la jerarquía de instrumentos?"
   ]
  },
  {
   "cell_type": "code",
   "execution_count": 10,
   "metadata": {},
   "outputs": [
    {
     "name": "stdout",
     "output_type": "stream",
     "text": [
      "0 voz (Q17172850)\n"
     ]
    }
   ],
   "source": [
    "## Esquema de muestra\n",
    "print ('0 '+etiqueta['Q17172850']+ ' (' + 'Q17172850' + ')')"
   ]
  },
  {
   "cell_type": "code",
   "execution_count": 11,
   "metadata": {},
   "outputs": [
    {
     "name": "stdout",
     "output_type": "stream",
     "text": [
      "0 voz (Q17172850)\n",
      "  1 bajo (Q27911)\n",
      "    2 bajo-barítono (Q810480)\n",
      "    2 bajo buffo (Q1002146)\n",
      "    2 bajo profundo (Q2532487)\n",
      "    2 bajo cantante (Q3636053)\n",
      "    2 grave (Q5885030)\n",
      "    2 octavist (Q7082656)\n",
      "    2 bajo caractère (Q20638448)\n",
      "    2 high bass (Q54636007)\n",
      "    2 dramatic high bass (Q54636036)\n",
      "    2 serious bass (Q54636068)\n",
      "    2 heavy acting bass (Q54636271)\n",
      "    2 Bass bourdon (Q64363543)\n",
      "  1 barítono (Q31687)\n",
      "    2 bajo-barítono (Q810480)\n",
      "    2 character baritone (Q1062931)\n",
      "    2 heldenbaritone (Q1601737)\n",
      "    2 Barítono buffo (Q5721499)\n",
      "    2 Barítono ligero (Q5721503)\n",
      "    2 grave (Q5885030)\n",
      "    2 Barítono lírico (Q8243255)\n",
      "    2 Barítono dramático (Q8243257)\n",
      "    2 baryton-noble (Q19740895)\n",
      "    2 barítono Martin (Q21478751)\n",
      "    2 Barítono martín (Q25404193)\n",
      "    2 barítono verdiano (Q54635681)\n",
      "    2 acting baritone (Q54635751)\n",
      "    2 Kavalierbariton (Q54635784)\n",
      "  1 contralto (Q37137)\n",
      "    2 contralto cómica (Q5785182)\n",
      "    2 contralto dramática (Q5785183)\n",
      "    2 Tenorino (Q6141663)\n",
      "    2 contralto de coloratura (Q54635184)\n",
      "    2 lyric contralto (Q54635214)\n",
      "    2 deep contralto (Q54635335)\n",
      "  1 mezzosoprano (Q186506)\n",
      "    2 altmezzo (Q682525)\n",
      "    2 Q1300059 (Q1300059)\n",
      "    2 mezzosoprano lírica (Q1878954)\n",
      "    2 sopranista (Q1999862)\n",
      "    2 mezzosoprano dramática (Q6012297)\n",
      "    2 coloratura mezzo-soprano (Q54634572)\n",
      "    2 mezzosoprano ligera (Q54634726)\n",
      "    2 character mezzo-soprano (Q54634862)\n",
      "    2 mezzo-soprano castrato (Q54634945)\n",
      "  1 castrato (Q210970)\n",
      "    2 alto castrato (Q53395016)\n",
      "    2 soprano castrato (Q53830255)\n",
      "    2 mezzo-soprano castrato (Q54634945)\n",
      "  1 contratenor (Q223166)\n",
      "    2 haute-contre (Q1873389)\n",
      "  1 Xöömej (Q1067089)\n",
      "  1 Voz blanca (Q6164901)\n",
      "    2 child soprano (Q53829839)\n",
      "  1 alto (Q6983813)\n",
      "    2 contralto (Q37137)\n",
      "    2 mezzosoprano ligera (Q6012300)\n",
      "    2 alto castrato (Q53395016)\n",
      "    2 boy alto (Q53395277)\n",
      "  1 Treble voice (Q25303818)\n",
      "  1 male singing voice (Q54285279)\n",
      "  1 female singing voice (Q54285818)\n",
      "  1 backing vocal (Q60396389)\n",
      "  1 high voice (Q98116969)\n",
      "    2 tenor (Q27914)\n",
      "    2 soprano (Q30903)\n",
      "    2 child soprano (Q53829839)\n",
      "  1 operatic vocal (Q101436564)\n"
     ]
    }
   ],
   "source": [
    "## Definimos la funcion que para una etiqueta dada muestra 2 niveles de profundidad haciendo uso del diccionario subclase\n",
    "def print_tree(etiq):\n",
    "    print ('0 '+etiqueta[etiq]+ ' (' + etiq + ')')\n",
    "    if subclase.get(etiq)!=None:\n",
    "        for uno in subclase.get(etiq):\n",
    "            print ('  1 '+etiqueta[uno]+ ' (' + uno + ')')\n",
    "            if subclase.get(uno)!=None:\n",
    "                for dos in subclase.get(uno):\n",
    "                    print ('    2 '+etiqueta[dos]+ ' (' + dos + ')')\n",
    "\n",
    "print_tree('Q17172850')"
   ]
  },
  {
   "cell_type": "markdown",
   "metadata": {},
   "source": [
    "### 4) Obtener los LCS\n",
    "\n",
    "Crea una operación _lcs_ que devuelva todos los LCS de dos conceptos determinados. Recuerda que un concepto C es LCS(A, B) si es más general que ambos y no se puede especializar más sin dejar de serlo.\n",
    "\n",
    "Para implementarlo seguramente te resulte útil tener otro método que devuelva todos los conceptos más generales que uno dado. _Pista: es fácil de implementar usando operaciones entre conjuntos_. \n",
    "\n",
    "Ejemplos:\n",
    "\n",
    "```\n",
    "mezzosoprano dramática (Q6012297), mezzosoprano ligera (Q54634726), mezzosoprano (Q186506)\n",
    "LCS('Q6012297', 'Q54634726') = {'Q186506'}\n",
    "\n",
    "grave (Q5885030), mezzosoprano ligera (Q6012300), voz (Q17172850)\n",
    "LCS('Q5885030', 'Q6012300') = {'Q17172850'}\n",
    "\n",
    "tenor (Q27914)\n",
    "LCS('Q27914', 'Q27914') = {'Q27914'}\n",
    "\n",
    "viola eléctrica (Q15336282), bajo eléctrico (Q64166304), instrumento de cuerda (Q1798603), electrófono (Q105738), necked box lutes (Q55724840)\n",
    "LCS('Q15336282', 'Q64166304') = {'Q55724840', 'Q105738', 'Q1798603}\n",
    "```"
   ]
  },
  {
   "cell_type": "code",
   "execution_count": 12,
   "metadata": {},
   "outputs": [],
   "source": [
    "## La funcion antecesores construye recursivamente por union de conjuntos todos los elementos de los que es subconcepto\n",
    "def antecesores(etiq):\n",
    "    conjunto = {etiq}\n",
    "    if superclase.get(etiq)!=None:\n",
    "        for elem in superclase.get(etiq):\n",
    "            conjunto = conjunto | antecesores(elem)\n",
    "    return conjunto"
   ]
  },
  {
   "cell_type": "code",
   "execution_count": 13,
   "metadata": {},
   "outputs": [],
   "source": [
    "# Obtenemos LCS haciendo interseccion de los antecesores de a y b, quedandonos con aquellos que ocupen las posiciones inferiores\n",
    "# Esto se constata cuando ninguna de sus subclases directas (diccionario) cumplen ser antecesor comun de a y b\n",
    "def lcs(etiq_a, etiq_b):\n",
    "    anteriores = antecesores(etiq_a) & antecesores(etiq_b)\n",
    "    conjunto = set()\n",
    "    for elem in anteriores:\n",
    "        valido = True\n",
    "        if subclase.get(elem)!=None:\n",
    "            for x in subclase.get(elem):\n",
    "                valido = valido and not(x in anteriores)\n",
    "        if valido:\n",
    "            conjunto.add(elem)\n",
    "    \n",
    "    return conjunto"
   ]
  },
  {
   "cell_type": "code",
   "execution_count": 14,
   "metadata": {},
   "outputs": [
    {
     "name": "stdout",
     "output_type": "stream",
     "text": [
      "{'Q186506'}\n",
      "{'Q17172850'}\n",
      "{'Q27914'}\n",
      "{'Q105738', 'Q55724840', 'Q1798603'}\n"
     ]
    }
   ],
   "source": [
    "print(lcs('Q6012297', 'Q54634726'))\n",
    "print(lcs('Q5885030', 'Q6012300'))\n",
    "print(lcs('Q27914', 'Q27914'))\n",
    "print(lcs('Q15336282', 'Q64166304'))"
   ]
  },
  {
   "cell_type": "markdown",
   "metadata": {},
   "source": [
    "### 5) Obtener caminos mínimos\n",
    "\n",
    "Crea una operación _path_ que calcule el camino mínimo entre dos conceptos A y B siendo A más o igual de general que B. Como la taxonomía no tiene ciclos puedes implementarlo como una búsqueda en profunidad. Ten en cuenta que los caminos sólo pueden contener conceptos más específicos o iguales a A y más generales o iguales a B.\n",
    "\n",
    "Ejemplos:\n",
    "\n",
    "```\n",
    "path('Q186506', 'Q54634726') = [mezzosoprano (Q186506), mezzosoprano ligera (Q54634726)]\n",
    "\n",
    "path('Q17172850', 'Q6012300') = [voz (Q17172850), alto (Q6983813), mezzosoprano ligera (Q6012300)]\n",
    "\n",
    "path('Q27914', 'Q27914') = [tenor (Q27914)]\n",
    "\n",
    "path('Q34379', 'Q55724840') = [instrumento musical (Q34379), cordófono (Q1051772), composite chordophones (Q19588495), lutes (Q1808578), handle lutes (Q30038759), necked lutes (Q55724833), necked box lutes (Q55724840)]\n",
    " ```"
   ]
  },
  {
   "cell_type": "code",
   "execution_count": 15,
   "metadata": {},
   "outputs": [],
   "source": [
    "## Definimos la funcion sucesores analoga a antecesores, por union de conjuntos\n",
    "def sucesores(etiq):\n",
    "    conjunto = {etiq}\n",
    "    if subclase.get(etiq)!=None:\n",
    "        for elem in subclase.get(etiq):\n",
    "            conjunto = conjunto | sucesores(elem)\n",
    "    return conjunto"
   ]
  },
  {
   "cell_type": "code",
   "execution_count": 16,
   "metadata": {},
   "outputs": [],
   "source": [
    "import sys\n",
    "## La funcion path tiene como precondicion que a es subconcepto de b\n",
    "## Haciendo la interseccion de los antecesores de a y los sucesores de b obtenemos los elementos que pueden estar \n",
    "## en el camino de b hacia a\n",
    "## Recursivamente partiendo de b obtenemos el camino de b hacia a como b concatenado al minimo de los caminos de las subclases\n",
    "## directas de b (diccionario) hacia a\n",
    "\n",
    "def path (etiq_a,etiq_b):\n",
    "    conjunto = sucesores(etiq_b) and antecesores(etiq_a)\n",
    "    lista = [etiqueta[etiq_b]+ ' (' + etiq_b + ')']\n",
    "    if subclase.get(etiq_b)!=None:\n",
    "        aux=[]\n",
    "        longitud=sys.maxsize\n",
    "        for elem in subclase.get(etiq_b):\n",
    "            if (elem in conjunto):\n",
    "                camino=path(etiq_a,elem)\n",
    "                if(len(camino)<longitud):\n",
    "                    aux=camino\n",
    "                    longitud=len(aux)\n",
    "        lista.extend(aux)\n",
    "    return lista\n",
    "\n",
    "## Camino_min obtiene el camino minimo entre dos conceptos haciendo uso de la funcion path, y ordenando los argumentos en\n",
    "## funcion de cual es el mas cercano a la raíz\n",
    "def camino_min(etiq_a,etiq_b):\n",
    "    if (etiq_a == etiq_b):\n",
    "        return [etiqueta[etiq_a]+ ' (' + etiq_a + ')']\n",
    "    elif (etiq_a in sucesores(etiq_b)):\n",
    "        return path(etiq_a, etiq_b)\n",
    "    elif (etiq_b in sucesores(etiq_a)):\n",
    "        return path(etiq_b, etiq_a)\n",
    "    else:\n",
    "        return None"
   ]
  },
  {
   "cell_type": "code",
   "execution_count": 17,
   "metadata": {},
   "outputs": [
    {
     "name": "stdout",
     "output_type": "stream",
     "text": [
      "{'Q17172850', 'Q34379', 'Q98329515'}\n",
      "['instrumento musical (Q34379)', 'voz (Q17172850)', 'mezzosoprano (Q186506)']\n",
      "['instrumento musical (Q34379)', 'voz (Q17172850)']\n",
      "['instrumento musical (Q34379)', 'Instrumento de tono continuo (Q98329515)']\n",
      "['Instrumento de tono continuo (Q98329515)', 'voz (Q17172850)', 'mezzosoprano (Q186506)']\n"
     ]
    }
   ],
   "source": [
    "## Pruebas de depuracion para comprobar que funciona correctamente\n",
    "print(antecesores('Q17172850'))\n",
    "print(path('Q186506','Q34379'))\n",
    "print(path('Q17172850','Q34379'))\n",
    "print(path('Q98329515','Q34379'))\n",
    "print(path('Q186506','Q98329515'))"
   ]
  },
  {
   "cell_type": "code",
   "execution_count": 18,
   "metadata": {},
   "outputs": [
    {
     "name": "stdout",
     "output_type": "stream",
     "text": [
      "['mezzosoprano (Q186506)', 'mezzosoprano ligera (Q54634726)']\n",
      "['voz (Q17172850)', 'alto (Q6983813)', 'mezzosoprano ligera (Q6012300)']\n",
      "['tenor (Q27914)']\n",
      "['instrumento musical (Q34379)', 'electrófono (Q105738)']\n",
      "['instrumento musical (Q34379)', 'cordófono (Q1051772)', 'composite chordophones (Q19588495)', 'lutes (Q1808578)', 'handle lutes (Q30038759)', 'necked lutes (Q55724833)', 'necked box lutes (Q55724840)']\n"
     ]
    }
   ],
   "source": [
    "print(camino_min('Q186506', 'Q54634726'))\n",
    "print(camino_min('Q17172850', 'Q6012300'))\n",
    "print(camino_min('Q27914', 'Q27914'))\n",
    "print(camino_min('Q34379', 'Q105738'))\n",
    "print(camino_min('Q34379', 'Q55724840'))"
   ]
  },
  {
   "cell_type": "markdown",
   "metadata": {},
   "source": [
    "### 6) Calcular la similitud\n",
    "\n",
    "Implementa una operación _similarity_ que calcule la similtud entre dos conceptos. Debe devolver tanto el valor númerico de similitud como los caminos desde la raiz al LCS y desde el LCS a cada uno de los dos conceptos.\n",
    "\n",
    "Ten en cuenta que debes usar un LCS que maximice el valor de similitud. Si la información de Wikidata no ha cambiado, los valores de similitud deberían coincidir con los que aparecen en los ejemplos pero los caminos no tienen por qué. Y recuerda que no es lo mismo el números de aristas de un camino que el número de nodos del camino.\n",
    "\n",
    "Ejemplos:\n",
    "\n",
    "```\n",
    "similarity('Q6012297', 'Q54634726')\n",
    "0.5\n",
    "[instrumento musical (Q34379), voz (Q17172850), mezzosoprano (Q186506)]\n",
    "[mezzosoprano (Q186506), mezzosoprano dramática (Q6012297)]\n",
    "[mezzosoprano (Q186506), mezzosoprano ligera (Q54634726)]\n",
    "\n",
    "similarity('Q186506', 'Q54634726')\n",
    "0.6666666666666666\n",
    "[instrumento musical (Q34379), voz (Q17172850), mezzosoprano (Q186506)]\n",
    "[mezzosoprano (Q186506)]\n",
    "[mezzosoprano (Q186506), mezzosoprano ligera (Q54634726)]\n",
    "\n",
    "similarity('Q27914', 'Q27914')\n",
    "1.0\n",
    "[instrumento musical (Q34379), voz (Q17172850), high voice (Q98116969), tenor (Q27914)]\n",
    "[tenor (Q27914)]\n",
    "[tenor (Q27914)]\n",
    "\n",
    "similarity('Q76239', 'Q78987')\n",
    "0.42857142857142855\n",
    "[instrumento musical (Q34379), cordófono (Q1051772), instrumento de cuerda (Q1798603), instrumento de cuerda pulsada (Q230262)]\n",
    "[instrumento de cuerda pulsada (Q230262), cítara (Q76239)]\n",
    "[instrumento de cuerda pulsada (Q230262), plucked necked box lutes (Q57306162), guitarra (Q6607), guitarra eléctrica (Q78987)]\n",
    "```"
   ]
  },
  {
   "cell_type": "code",
   "execution_count": 19,
   "metadata": {},
   "outputs": [],
   "source": [
    "## Obtenemos la similaridad por la formula siguiente: 𝑆𝑖𝑚(𝐴,𝐵)= 𝛿(𝑟𝑜𝑜𝑡,𝐶) / (𝛿(𝑟𝑜𝑜𝑡,𝐶)+𝛿(𝐶,𝐴)+𝛿(𝐶,𝐵))\n",
    "## Devuelve la tupla (𝑆𝑖𝑚(𝐴,𝐵) , camino(𝑟𝑜𝑜𝑡,𝐶), camino(𝐶,𝐴) , camino(𝐶,𝐵)) donde c= LCS(A,B)\n",
    "def similaridad(etiq_a,etiq_b):\n",
    "    c = lcs(etiq_a, etiq_b).pop()\n",
    "    raiz_c=camino_min('Q34379', c)\n",
    "    c_a =camino_min(c, etiq_a)\n",
    "    c_b =camino_min(c, etiq_b)\n",
    "    sim= (len(raiz_c)-1) / (len(raiz_c)-1+len(c_a)-1+len(c_b)-1)\n",
    "    return [sim,raiz_c,c_a,c_b]"
   ]
  },
  {
   "cell_type": "code",
   "execution_count": 20,
   "metadata": {},
   "outputs": [
    {
     "name": "stdout",
     "output_type": "stream",
     "text": [
      "0.5\n",
      "['instrumento musical (Q34379)', 'voz (Q17172850)', 'mezzosoprano (Q186506)']\n",
      "['mezzosoprano (Q186506)', 'mezzosoprano dramática (Q6012297)']\n",
      "['mezzosoprano (Q186506)', 'mezzosoprano ligera (Q54634726)']\n",
      "0.6666666666666666\n",
      "['instrumento musical (Q34379)', 'voz (Q17172850)', 'mezzosoprano (Q186506)']\n",
      "['mezzosoprano (Q186506)']\n",
      "['mezzosoprano (Q186506)', 'mezzosoprano ligera (Q54634726)']\n",
      "1.0\n",
      "['instrumento musical (Q34379)', 'voz (Q17172850)', 'high voice (Q98116969)', 'tenor (Q27914)']\n",
      "['tenor (Q27914)']\n",
      "['tenor (Q27914)']\n",
      "0.42857142857142855\n",
      "['instrumento musical (Q34379)', 'cordófono (Q1051772)', 'instrumento de cuerda (Q1798603)', 'instrumento de cuerda pulsada (Q230262)']\n",
      "['instrumento de cuerda pulsada (Q230262)', 'cítara (Q76239)']\n",
      "['instrumento de cuerda pulsada (Q230262)', 'plucked necked box lutes (Q57306162)', 'guitarra (Q6607)', 'guitarra eléctrica (Q78987)']\n"
     ]
    }
   ],
   "source": [
    "## Ejemplos de comprobacion\n",
    "a=similaridad('Q6012297', 'Q54634726')\n",
    "b=similaridad('Q186506', 'Q54634726')\n",
    "c=similaridad('Q27914', 'Q27914')\n",
    "d=similaridad('Q76239', 'Q78987')\n",
    "for i in range(4):\n",
    "    print(a[i])\n",
    "for i in range(4):\n",
    "    print(b[i])\n",
    "for i in range(4):\n",
    "    print(c[i])\n",
    "for i in range(4):\n",
    "    print(d[i])"
   ]
  },
  {
   "cell_type": "markdown",
   "metadata": {},
   "source": [
    "### 7) Análisis de las similitudes\n",
    "\n",
    "Calcula la similitud 2 a 2 de los siguientes instrumentos y explica razonadamente si los valores obtenidos tienen sentido de acuerdo a tu intuición sobre si se parecen o no.\n",
    "\n",
    "```\n",
    "piano (Q5994), guitarra (Q6607), guitarra eléctrica (Q78987), flauta (Q11405), trompeta (Q8338)\n",
    "```"
   ]
  },
  {
   "cell_type": "code",
   "execution_count": 21,
   "metadata": {},
   "outputs": [
    {
     "name": "stdout",
     "output_type": "stream",
     "text": [
      "0.2727272727272727 piano guitarra\n",
      "0.25 piano guitarra electrica\n",
      "0.0 piano flauta\n",
      "0.0 piano trompeta\n",
      "0.8333333333333334 guitarra guitarra electrica\n",
      "0.0 guitarra flauta\n",
      "0.0 guitarra trompeta\n",
      "0.0 guitarra eléctrica flauta\n",
      "0.0 guitarra eléctrica trompeta\n",
      "0.4 flauta trompeta\n"
     ]
    }
   ],
   "source": [
    "## Muestra de las similaridades dos a dos para el posterior comentario\n",
    "print(similaridad('Q5994', 'Q6607')[0],'piano','guitarra') \n",
    "print(similaridad('Q5994', 'Q78987')[0],'piano','guitarra electrica')\n",
    "print(similaridad('Q5994', 'Q11405')[0],'piano','flauta')\n",
    "print(similaridad('Q5994', 'Q8338')[0],'piano','trompeta') \n",
    "print(similaridad('Q6607', 'Q78987')[0],'guitarra','guitarra electrica')\n",
    "print(similaridad('Q6607', 'Q11405')[0],'guitarra','flauta') \n",
    "print(similaridad('Q6607', 'Q8338')[0],'guitarra','trompeta')\n",
    "print(similaridad('Q78987', 'Q11405')[0],'guitarra eléctrica','flauta')\n",
    "print(similaridad('Q78987', 'Q8338')[0],'guitarra eléctrica','trompeta')\n",
    "print(similaridad('Q11405', 'Q8338')[0],'flauta','trompeta')"
   ]
  },
  {
   "cell_type": "markdown",
   "metadata": {},
   "source": [
    "### COMENTARIOS\n",
    "#### Todo va de acuerdo al sentido común. Existe relacion entre instrumentos del mismo tipo, que recordamos son viento,cuerda, percusion. Además entre instrumentos de distinto tipo la similitud es 0.0 pues su LCS es la raíz de la taxonomía, instrumento musical.\n",
    "#### Podemos añadir que dentro de los intrumentos de cuerda hay gran similitud entre los dos tipos de guitarra, la normla y la electrica (0.83), y tambien es lógico que el piano tenga mayor similitud con la guitarra clasica que con la electrica"
   ]
  }
 ],
 "metadata": {
  "kernelspec": {
   "display_name": "Python 3",
   "language": "python",
   "name": "python3"
  },
  "language_info": {
   "codemirror_mode": {
    "name": "ipython",
    "version": 3
   },
   "file_extension": ".py",
   "mimetype": "text/x-python",
   "name": "python",
   "nbconvert_exporter": "python",
   "pygments_lexer": "ipython3",
   "version": "3.8.3"
  }
 },
 "nbformat": 4,
 "nbformat_minor": 4
}
